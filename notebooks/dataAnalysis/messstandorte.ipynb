{
 "cells": [
  {
   "cell_type": "code",
   "id": "initial_id",
   "metadata": {
    "collapsed": true,
    "ExecuteTime": {
     "end_time": "2025-04-21T09:35:17.612288Z",
     "start_time": "2025-04-21T09:35:17.531198Z"
    }
   },
   "source": [
    "import geopandas as gpd\n",
    "import pandas as pd\n",
    "import matplotlib.pyplot as plt\n",
    "import seaborn as sns\n",
    "\n",
    "# Datei einlesen\n",
    "eco = gpd.read_file(\"../../data/Rohdaten/messstandorte_verkehrszaehlungen_geojson/data/taz.view_eco_standorte.json\")\n",
    "\n",
    "# Grundstruktur prüfen\n",
    "print(\"Datentypen:\")\n",
    "print(eco.dtypes)\n",
    "\n",
    "print(\"\\nNullwerte pro Spalte:\")\n",
    "print(eco.isnull().sum().sort_values(ascending=False))\n",
    "\n",
    "print(\"\\nForm:\", eco.shape)\n",
    "\n",
    "print(\"\\nErste 5 Zeilen:\")\n",
    "print(eco.head())\n",
    "\n",
    "print(\"\\nEindeutige Werte pro Spalte:\")\n",
    "print(eco.nunique().sort_values(ascending=False))\n",
    "\n",
    "print(\"\\nDoppelte Zeilen:\", eco.duplicated().sum())\n",
    "print(\"Doppelte Geometrien:\", eco.geometry.duplicated().sum())\n",
    "\n",
    "print(\"\\nSpalten mit nur einem Wert:\")\n",
    "print(eco.columns[eco.nunique() <= 1])\n"
   ],
   "outputs": [
    {
     "name": "stdout",
     "output_type": "stream",
     "text": [
      "Datentypen:\n",
      "abkuerzung           object\n",
      "bezeichnung          object\n",
      "bis                  object\n",
      "fk_zaehler           object\n",
      "id1                   int32\n",
      "richtung_in          object\n",
      "richtung_out         object\n",
      "von                  object\n",
      "objectid             object\n",
      "korrekturfaktor     float64\n",
      "geometry           geometry\n",
      "dtype: object\n",
      "\n",
      "Nullwerte pro Spalte:\n",
      "bis                26\n",
      "richtung_out        4\n",
      "abkuerzung          0\n",
      "bezeichnung         0\n",
      "fk_zaehler          0\n",
      "id1                 0\n",
      "richtung_in         0\n",
      "von                 0\n",
      "objectid            0\n",
      "korrekturfaktor     0\n",
      "geometry            0\n",
      "dtype: int64\n",
      "\n",
      "Form: (171, 11)\n",
      "\n",
      "Erste 5 Zeilen:\n",
      "  abkuerzung              bezeichnung             bis   fk_zaehler  id1  \\\n",
      "0   VZS_BINZ         Binzmühlestrasse  20180404000000  ECO09113500    7   \n",
      "1   VZS_BUCH             Bucheggplatz  20190313000000  ECO09113505   16   \n",
      "2   VZS_KLOW         Kloster-Fahr-Weg  20200203000000  Y0412032046   53   \n",
      "3   VZS_HOFW         Hofwiesenstrasse  20190313000000  ECO09113507   13   \n",
      "4   VZS_LIMB  Limmatquai --> Bellevue  20190603000000  Y2G14045587   61   \n",
      "\n",
      "        richtung_in     richtung_out             von objectid  \\\n",
      "0          Oerlikon  Glaubtenstrasse  20101130000000        1   \n",
      "1  Hofwiesenstrasse            Höngg  20140626000000        2   \n",
      "2       Stadtgrenze       Innenstadt  20100625000000        3   \n",
      "3      Bucheggplatz              ---  20100923000000        4   \n",
      "4          Bellevue              ---  20140625000000        5   \n",
      "\n",
      "   korrekturfaktor                  geometry  \n",
      "0             1.22  POINT (8.52329 47.41364)  \n",
      "1             1.27  POINT (8.53345 47.39891)  \n",
      "2             0.94  POINT (8.48557 47.40214)  \n",
      "3             1.28  POINT (8.53397 47.40076)  \n",
      "4             1.47  POINT (8.54343 47.36912)  \n",
      "\n",
      "Eindeutige Werte pro Spalte:\n",
      "id1                171\n",
      "objectid           171\n",
      "von                110\n",
      "bis                 90\n",
      "fk_zaehler          82\n",
      "geometry            81\n",
      "abkuerzung          53\n",
      "bezeichnung         50\n",
      "korrekturfaktor     42\n",
      "richtung_out        37\n",
      "richtung_in         36\n",
      "dtype: int64\n",
      "\n",
      "Doppelte Zeilen: 0\n",
      "Doppelte Geometrien: 90\n",
      "\n",
      "Spalten mit nur einem Wert:\n",
      "Index([], dtype='object')\n"
     ]
    }
   ],
   "execution_count": 1
  },
  {
   "metadata": {},
   "cell_type": "markdown",
   "source": [
    "### 📝 Datenprüfung: Eco-Standorte Zürich (`taz.view_eco_standorte.json`)\n",
    "\n",
    "Der Datensatz umfasst **171 Standorte**, die mit dem Label „Eco“ geführt werden – vermutlich Messpunkte, Anlagen oder zählbare Infrastrukturen im Zusammenhang mit Energie, Umwelt oder Verkehr. Jeder Eintrag ist mit einer Punkt-Geometrie versehen und umfasst 11 Attribute.\n",
    "\n",
    "**Datenstruktur:**\n",
    "- Die Daten enthalten verschiedene Bezeichnungen (`bezeichnung`), Kürzel (`abkuerzung`) und Zählerkennungen (`fk_zaehler`).\n",
    "- Die Spalten `von` und `bis` repräsentieren vermutlich Zeitstempel im Format `yyyymmddHHMMSS`, z.B. zur Erfassung von Messzeiträumen.\n",
    "- Die Spalte `korrekturfaktor` liegt als `float` vor und scheint auf eine Gewichtung oder Umrechnungsgröße hinzuweisen.\n",
    "\n",
    "**Nullwerte:**\n",
    "- Die Spalte `bis` ist bei **26 von 171 Einträgen leer**, möglicherweise weil die Messung noch aktiv ist.\n",
    "- `richtung_out` fehlt in 4 Fällen, was auf ungerichtete Messstationen oder irrelevante Angaben hindeuten könnte.\n",
    "- Alle anderen Felder sind vollständig gefüllt.\n",
    "\n",
    "**Doppelte Einträge:**\n",
    "- **Keine doppelten Zeilen** vorhanden.\n",
    "- **90 doppelte Geometrien** → Das bedeutet, dass sich mehrere Einträge **denselben Standort teilen**, z.B. für unterschiedliche Zeiträume, Richtungen oder Zähler.\n",
    "\n",
    "**Eindeutige Werte:**\n",
    "- Die Spalten `id1` und `objectid` sind eindeutig → gut als Schlüssel verwendbar.\n",
    "- Es gibt **110 eindeutige „von“-Werte** und **90 unterschiedliche „bis“-Werte**, was auf verschiedene Start- und Endzeitpunkte hindeutet.\n",
    "- `korrekturfaktor` zeigt 42 verschiedene Werte und könnte für die spätere **gewichtete Analyse** genutzt werden.\n",
    "\n",
    "**Fazit:**\n",
    "Der Datensatz bietet eine strukturierte Übersicht über sogenannte **Eco-Standorte**, die sich z.B. als **Verkehrszählstellen, Umweltmesspunkte oder ökologisch relevante Infrastruktur** interpretieren lassen. Die Vielzahl doppelter Geometrien legt nahe, dass an einzelnen Standorten mehrere Zeitabschnitte oder Richtungsangaben erfasst wurden. Für räumliche Analysen ist der Datensatz direkt nutzbar, insbesondere zur **Verknüpfung mit Verkehrs-, Umwelt- oder Infrastrukturthemen**.\n"
   ],
   "id": "1c433a5d0ff4c4ed"
  },
  {
   "metadata": {
    "ExecuteTime": {
     "end_time": "2025-04-21T09:35:42.798279Z",
     "start_time": "2025-04-21T09:35:42.737392Z"
    }
   },
   "cell_type": "code",
   "source": [
    "# Übersichtskarte mit Punkten\n",
    "eco.plot(figsize=(10, 10), color=\"darkgreen\", markersize=10)\n",
    "plt.title(\"Eco-Standorte in Zürich\")\n",
    "plt.axis(\"off\")\n",
    "plt.show()\n"
   ],
   "id": "2bc38eb04ca43094",
   "outputs": [
    {
     "data": {
      "text/plain": [
       "<Figure size 1000x1000 with 1 Axes>"
      ],
      "image/png": "[encoded data removed]"
     },
     "metadata": {},
     "output_type": "display_data"
    }
   ],
   "execution_count": 2
  }
 ],
 "metadata": {
  "kernelspec": {
   "display_name": "Python 3",
   "language": "python",
   "name": "python3"
  },
  "language_info": {
   "codemirror_mode": {
    "name": "ipython",
    "version": 2
   },
   "file_extension": ".py",
   "mimetype": "text/x-python",
   "name": "python",
   "nbconvert_exporter": "python",
   "pygments_lexer": "ipython2",
   "version": "2.7.6"
  }
 },
 "nbformat": 4,
 "nbformat_minor": 5
}
