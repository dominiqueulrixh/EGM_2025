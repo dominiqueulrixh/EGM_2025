{
 "cells": [
  {
   "cell_type": "code",
   "id": "initial_id",
   "metadata": {
    "collapsed": true,
    "ExecuteTime": {
     "end_time": "2025-04-21T09:55:53.600763Z",
     "start_time": "2025-04-21T09:55:53.511045Z"
    }
   },
   "source": [
    "import pandas as pd\n",
    "import geopandas as gpd\n",
    "\n",
    "# Verkehrs-Daten mit Zählwerten\n",
    "df_zaehlwerte = pd.read_csv(\n",
    "    \"../../data/Rohdaten/verkehrszaehlungen_csv/2025_verkehrszaehlungen_werte_fussgaenger_velo-2.csv\",\n",
    "    delimiter=\",\",\n",
    "    encoding=\"utf-8\",\n",
    "    parse_dates=[\"DATUM\"]\n",
    ")\n",
    "\n",
    "# Geodaten der Messstellen (GeoJSON oder SHP oder CSV mit Koordinaten)\n",
    "gdf_messstellen = gpd.read_file(\"../../data/Rohdaten/messstandorte_verkehrszaehlungen_geojson/data/taz.view_eco_standorte.json\")\n"
   ],
   "outputs": [],
   "execution_count": 3
  },
  {
   "metadata": {
    "ExecuteTime": {
     "end_time": "2025-04-21T09:56:02.278678Z",
     "start_time": "2025-04-21T09:56:02.276359Z"
    }
   },
   "cell_type": "code",
   "source": [
    "\n",
    "print(df_zaehlwerte.columns)\n",
    "print(gdf_messstellen.columns)\n"
   ],
   "id": "5c8072972fde06ca",
   "outputs": [
    {
     "name": "stdout",
     "output_type": "stream",
     "text": [
      "Index(['FK_STANDORT', 'DATUM', 'VELO_IN', 'VELO_OUT', 'FUSS_IN', 'FUSS_OUT',\n",
      "       'OST', 'NORD'],\n",
      "      dtype='object')\n",
      "Index(['abkuerzung', 'bezeichnung', 'bis', 'fk_zaehler', 'id1', 'richtung_in',\n",
      "       'richtung_out', 'von', 'objectid', 'korrekturfaktor', 'geometry'],\n",
      "      dtype='object')\n"
     ]
    }
   ],
   "execution_count": 4
  },
  {
   "metadata": {},
   "cell_type": "code",
   "outputs": [],
   "execution_count": null,
   "source": "",
   "id": "41b3cc21209ef9af"
  }
 ],
 "metadata": {
  "kernelspec": {
   "display_name": "Python 3",
   "language": "python",
   "name": "python3"
  },
  "language_info": {
   "codemirror_mode": {
    "name": "ipython",
    "version": 2
   },
   "file_extension": ".py",
   "mimetype": "text/x-python",
   "name": "python",
   "nbconvert_exporter": "python",
   "pygments_lexer": "ipython2",
   "version": "2.7.6"
  }
 },
 "nbformat": 4,
 "nbformat_minor": 5
}
