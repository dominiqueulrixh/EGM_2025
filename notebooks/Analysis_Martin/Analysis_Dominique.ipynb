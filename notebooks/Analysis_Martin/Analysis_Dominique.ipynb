{
 "cells": [
  {
   "cell_type": "code",
   "id": "initial_id",
   "metadata": {
    "collapsed": true,
    "ExecuteTime": {
     "end_time": "2025-04-26T18:39:00.438366Z",
     "start_time": "2025-04-26T18:39:00.434117Z"
    }
   },
   "source": [
    "import pandas as pd\n",
    "import geopandas as gpd"
   ],
   "outputs": [],
   "execution_count": 15
  },
  {
   "metadata": {
    "ExecuteTime": {
     "end_time": "2025-04-26T18:39:00.461818Z",
     "start_time": "2025-04-26T18:39:00.445787Z"
    }
   },
   "cell_type": "code",
   "source": [
    "# Fussgängerzählungen (bereits aggregiert auf Tagesbasis)\n",
    "df_fussverkehr = pd.read_csv(\n",
    "    \"../../data/Cleaned/verkehrszaehlungen_fussverkehr.csv\",  # Pfad anpassen\n",
    "    parse_dates=[\"date\"],\n",
    "    encoding=\"utf-8\"\n",
    ")"
   ],
   "id": "23b2636bd693bac8",
   "outputs": [],
   "execution_count": 16
  },
  {
   "metadata": {
    "ExecuteTime": {
     "end_time": "2025-04-26T18:39:00.472887Z",
     "start_time": "2025-04-26T18:39:00.468370Z"
    }
   },
   "cell_type": "code",
   "source": [
    "# Fixe und mobile WC-Standorte (vereinigt)\n",
    "wc_gesamt = pd.read_csv(\n",
    "    \"../../data/Cleaned/wc_standorte.csv\",  # Pfad anpassen\n",
    "    encoding=\"utf-8\"\n",
    ")"
   ],
   "id": "4322d59d52f6592",
   "outputs": [],
   "execution_count": 17
  },
  {
   "metadata": {
    "ExecuteTime": {
     "end_time": "2025-04-26T18:39:00.585378Z",
     "start_time": "2025-04-26T18:39:00.482744Z"
    }
   },
   "cell_type": "code",
   "source": [
    "# Fusswegnetz der Stadt Zürich\n",
    "netz_reduced = gpd.read_file(\n",
    "    \"../../data/Cleaned/Fusswegnetz.csv\"  # Pfad anpassen\n",
    ")"
   ],
   "id": "2e25ad28f83bdd50",
   "outputs": [],
   "execution_count": 18
  },
  {
   "metadata": {
    "ExecuteTime": {
     "end_time": "2025-04-26T18:39:00.602101Z",
     "start_time": "2025-04-26T18:39:00.590957Z"
    }
   },
   "cell_type": "code",
   "source": [
    "# Altersstruktur nach Quartieren\n",
    "df_alter_quartiere = pd.read_csv(\n",
    "    \"../../data/Cleaned/GeschlechtAlterQuartiere_aggregiert.csv\",  # Pfad anpassen\n",
    "    encoding=\"utf-8\"\n",
    ")\n",
    "df_alter65_quartiere = pd.read_csv(\n",
    "    \"../../data/Cleaned/GeschlechtAlterQuartiere_65plus.csv\",  # Pfad anpassen\n",
    "    encoding=\"utf-8\"\n",
    ")"
   ],
   "id": "3c2c58b50e770e5c",
   "outputs": [],
   "execution_count": 19
  },
  {
   "metadata": {
    "ExecuteTime": {
     "end_time": "2025-04-26T18:39:00.624892Z",
     "start_time": "2025-04-26T18:39:00.621959Z"
    }
   },
   "cell_type": "code",
   "source": [
    "# Funktion für schnellen Überblick\n",
    "def quick_overview(df, name=\"DataFrame\"):\n",
    "    print(f\"📋 Überblick für {name}\")\n",
    "    print(\"-\" * 50)\n",
    "    print(\"Spaltennamen:\")\n",
    "    print(df.columns.tolist())\n",
    "    print(\"\\nForm (Zeilen, Spalten):\", df.shape)\n",
    "\n",
    "    print(\"\\n\\n\")\n",
    "\n",
    "# Jetzt für alle wichtigen DataFrames aufrufen:\n",
    "\n",
    "quick_overview(df_fussverkehr, \"Fussgängerzählungen (df_fussverkehr)\")\n",
    "quick_overview(wc_gesamt, \"WC-Standorte (wc_gesamt)\")\n",
    "quick_overview(netz_reduced, \"Fussgängernetz (netz_reduced)\")\n",
    "quick_overview(df_alter_quartiere, \"Altersstruktur Quartiere (df_alter_quartiere)\")\n"
   ],
   "id": "d86ae66005d37b7c",
   "outputs": [
    {
     "name": "stdout",
     "output_type": "stream",
     "text": [
      "📋 Überblick für Fussgängerzählungen (df_fussverkehr)\n",
      "--------------------------------------------------\n",
      "Spaltennamen:\n",
      "['date', 'fuss_in', 'fuss_out', 'location_name', 'geometry', 'direction_in', 'direction_out', 'geometryMessstandort']\n",
      "\n",
      "Form (Zeilen, Spalten): (18757, 8)\n",
      "\n",
      "\n",
      "\n",
      "📋 Überblick für WC-Standorte (wc_gesamt)\n",
      "--------------------------------------------------\n",
      "Spaltennamen:\n",
      "['poi_id', 'name', 'typ', 'kreis', 'adresse', 'geometry']\n",
      "\n",
      "Form (Zeilen, Spalten): (28, 6)\n",
      "\n",
      "\n",
      "\n",
      "📋 Überblick für Fussgängernetz (netz_reduced)\n",
      "--------------------------------------------------\n",
      "Spaltennamen:\n",
      "['id', 'name', 'geometry']\n",
      "\n",
      "Form (Zeilen, Spalten): (31127, 3)\n",
      "\n",
      "\n",
      "\n",
      "📋 Überblick für Altersstruktur Quartiere (df_alter_quartiere)\n",
      "--------------------------------------------------\n",
      "Spaltennamen:\n",
      "['Year', 'AgeGroup', 'Kreis', 'Sex', 'Origin', 'PopulationCount']\n",
      "\n",
      "Form (Zeilen, Spalten): (31025, 6)\n",
      "\n",
      "\n",
      "\n"
     ]
    }
   ],
   "execution_count": 20
  }
 ],
 "metadata": {
  "kernelspec": {
   "display_name": "Python 3",
   "language": "python",
   "name": "python3"
  },
  "language_info": {
   "codemirror_mode": {
    "name": "ipython",
    "version": 2
   },
   "file_extension": ".py",
   "mimetype": "text/x-python",
   "name": "python",
   "nbconvert_exporter": "python",
   "pygments_lexer": "ipython2",
   "version": "2.7.6"
  }
 },
 "nbformat": 4,
 "nbformat_minor": 5
}
