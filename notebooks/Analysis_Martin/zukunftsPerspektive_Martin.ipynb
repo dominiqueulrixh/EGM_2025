{
 "cells": [
  {
   "cell_type": "code",
   "execution_count": 1,
   "metadata": {},
   "outputs": [],
   "source": [
    "import pandas as pd"
   ]
  },
  {
   "cell_type": "markdown",
   "metadata": {},
   "source": [
    "### 1. Daten einlesen"
   ]
  },
  {
   "cell_type": "code",
   "execution_count": 4,
   "metadata": {},
   "outputs": [
    {
     "name": "stdout",
     "output_type": "stream",
     "text": [
      "Datensatz geladen: 31,025 Zeilen\n",
      "Verfügbare Jahre: 1993 - 2024\n",
      "Verfügbare Kreise: [np.int64(1), np.int64(2), np.int64(3), np.int64(4), np.int64(5), np.int64(6), np.int64(7), np.int64(8), np.int64(9), np.int64(10), np.int64(11), np.int64(12)]\n",
      "\n",
      "Verfügbare Altersgruppen:\n",
      "['0-4', '10-14', '100 u. älter', '15-19', '20-24', '25-29', '30-34', '35-39', '40-44', '45-49', '5-9', '50-54', '55-59', '60-64', '65-69', '70-74', '75-79', '80-84', '85-89', '90-94', '95-99']\n"
     ]
    }
   ],
   "source": [
    "# Bevölkerungsdaten laden\n",
    "population_data = pd.read_csv(r'C:\\Users\\Admin\\Desktop\\EGM_2025\\data\\Cleaned\\GeschlechtAlterQuartiere.csv')\n",
    "\n",
    "print(f\"Datensatz geladen: {len(population_data):,} Zeilen\")\n",
    "print(f\"Verfügbare Jahre: {population_data['Year'].min()} - {population_data['Year'].max()}\")\n",
    "print(f\"Verfügbare Kreise: {sorted(population_data['Kreis'].unique())}\")\n",
    "\n",
    "# Überblick über verfügbare Altersgruppen\n",
    "print(\"\\nVerfügbare Altersgruppen:\")\n",
    "age_groups = sorted(population_data['AgeGroup'].unique())\n",
    "print(age_groups)"
   ]
  },
  {
   "cell_type": "markdown",
   "metadata": {},
   "source": [
    "### 2. Annahmen definieren"
   ]
  },
  {
   "cell_type": "code",
   "execution_count": 5,
   "metadata": {},
   "outputs": [
    {
     "name": "stdout",
     "output_type": "stream",
     "text": [
      "ÜBERLEBENSRATEN (10 Jahre):\n",
      "  55-59 → 65+: 90%\n",
      "  60-64 → 70+: 95%\n",
      "  65-69 → 75+: 90%\n",
      "  70-74 → 80+: 85%\n",
      "  75-79 → 85+: 70%\n",
      "  80-84 → 90+: 50%\n",
      "\n",
      "RETENTION RATEN (bleiben im Kreis):\n",
      "  Neue Senioren: 85%\n",
      "  Alternde Senioren: 80%\n"
     ]
    }
   ],
   "source": [
    "# Unsere konservativen Annahmen\n",
    "assumptions = {\n",
    "    # Überlebensraten (10 Jahre)\n",
    "    'survival_55_59': 0.90,    # 90% der 55-59 Jährigen erreichen 65+\n",
    "    'survival_60_64': 0.95,    # 95% der 60-64 Jährigen erreichen 70+\n",
    "    'survival_65_69': 0.90,    # 90% der 65-69 Jährigen erreichen 75+\n",
    "    'survival_70_74': 0.85,    # 85% der 70-74 Jährigen erreichen 80+\n",
    "    'survival_75_79': 0.70,    # 70% der 75-79 Jährigen erreichen 85+\n",
    "    'survival_80_84': 0.50,    # 50% der 80-84 Jährigen erreichen 90+\n",
    "    \n",
    "    # Retention Raten (bleiben im gleichen Kreis)\n",
    "    'retention_new_seniors': 0.85,     # 85% der neuen Senioren bleiben\n",
    "    'retention_aging_seniors': 0.80,   # 80% der alternden Senioren bleiben\n",
    "}\n",
    "\n",
    "print(\"ÜBERLEBENSRATEN (10 Jahre):\")\n",
    "print(f\"  55-59 → 65+: {assumptions['survival_55_59']*100:.0f}%\")\n",
    "print(f\"  60-64 → 70+: {assumptions['survival_60_64']*100:.0f}%\")\n",
    "print(f\"  65-69 → 75+: {assumptions['survival_65_69']*100:.0f}%\")\n",
    "print(f\"  70-74 → 80+: {assumptions['survival_70_74']*100:.0f}%\")\n",
    "print(f\"  75-79 → 85+: {assumptions['survival_75_79']*100:.0f}%\")\n",
    "print(f\"  80-84 → 90+: {assumptions['survival_80_84']*100:.0f}%\")\n",
    "\n",
    "print(\"\\nRETENTION RATEN (bleiben im Kreis):\")\n",
    "print(f\"  Neue Senioren: {assumptions['retention_new_seniors']*100:.0f}%\")\n",
    "print(f\"  Alternde Senioren: {assumptions['retention_aging_seniors']*100:.0f}%\")"
   ]
  },
  {
   "cell_type": "markdown",
   "metadata": {},
   "source": [
    "### 3. Daten für 2024 filtern und vorbereiten"
   ]
  },
  {
   "cell_type": "code",
   "execution_count": 6,
   "metadata": {},
   "outputs": [
    {
     "name": "stdout",
     "output_type": "stream",
     "text": [
      "Rohdatensätze für 2024: 288\n",
      "Analysierte Altersgruppen: ['55-59', '60-64', '65-69', '70-74', '75-79', '80-84']\n",
      "\n",
      "Aggregiere Daten nach Kreis und Altersgruppe...\n",
      "(kombiniert alle Sex- und Origin-Kategorien pro Kreis/Altersgruppe)\n",
      "\n",
      "Aggregierte Daten: 72 Kreis-Altersgruppen-Kombinationen\n",
      "\n",
      "Beispiel Aggregation für Kreis 1, Altersgruppe 55-59:\n",
      "Vor Aggregation (alle Kategorien):\n",
      "      Sex  Origin  PopulationCount\n",
      "30598   M       1              167\n",
      "30599   M       2               54\n",
      "30600   W       1              126\n",
      "30601   W       2               36\n",
      "Nach Aggregation: 383 Personen total\n",
      "\n",
      "Population Matrix 2024 (erste 5 Kreise):\n",
      "AgeGroup  55-59  60-64  65-69  70-74  75-79  80-84\n",
      "Kreis                                             \n",
      "1           383    317    258    238    233    180\n",
      "2          2088   1687   1299   1161   1035    877\n",
      "3          2771   2251   1648   1364   1159    872\n",
      "4          1685   1259    886    698    491    291\n",
      "5           970    733    519    328    259    152\n"
     ]
    }
   ],
   "source": [
    "# Nur 2024 Daten\n",
    "data_2024 = population_data[population_data['Year'] == 2024].copy()\n",
    "\n",
    "# Relevante Altersgruppen filtern\n",
    "target_age_groups = ['55-59', '60-64', '65-69', '70-74', '75-79', '80-84']\n",
    "data_2024_filtered = data_2024[data_2024['AgeGroup'].isin(target_age_groups)].copy()\n",
    "\n",
    "print(f\"Rohdatensätze für 2024: {len(data_2024_filtered):,}\")\n",
    "print(f\"Analysierte Altersgruppen: {target_age_groups}\")\n",
    "\n",
    "# WICHTIG: Nach Kreis und Altersgruppe aggregieren (Sex und Origin zusammenfassen!)\n",
    "print(\"\\nAggregiere Daten nach Kreis und Altersgruppe...\")\n",
    "print(\"(kombiniert alle Sex- und Origin-Kategorien pro Kreis/Altersgruppe)\")\n",
    "\n",
    "kreis_age_2024 = data_2024_filtered.groupby(['Kreis', 'AgeGroup'])['PopulationCount'].sum().reset_index()\n",
    "\n",
    "print(f\"\\nAggregierte Daten: {len(kreis_age_2024)} Kreis-Altersgruppen-Kombinationen\")\n",
    "\n",
    "# Beispiel zeigen: Wie die Aggregation funktioniert\n",
    "print(\"\\nBeispiel Aggregation für Kreis 1, Altersgruppe 55-59:\")\n",
    "example_kreis1 = data_2024_filtered[(data_2024_filtered['Kreis'] == 1) & \n",
    "                                   (data_2024_filtered['AgeGroup'] == '55-59')]\n",
    "if len(example_kreis1) > 0:\n",
    "    print(\"Vor Aggregation (alle Kategorien):\")\n",
    "    print(example_kreis1[['Sex', 'Origin', 'PopulationCount']])\n",
    "    total_kreis1 = example_kreis1['PopulationCount'].sum()\n",
    "    print(f\"Nach Aggregation: {total_kreis1} Personen total\")\n",
    "\n",
    "# Pivot-Tabelle für bessere Übersicht\n",
    "population_matrix_2024 = kreis_age_2024.pivot(index='Kreis', columns='AgeGroup', values='PopulationCount').fillna(0)\n",
    "\n",
    "print(\"\\nPopulation Matrix 2024 (erste 5 Kreise):\")\n",
    "print(population_matrix_2024.head())"
   ]
  },
  {
   "cell_type": "markdown",
   "metadata": {},
   "source": [
    "### 4. Baseline"
   ]
  },
  {
   "cell_type": "code",
   "execution_count": 7,
   "metadata": {},
   "outputs": [
    {
     "name": "stdout",
     "output_type": "stream",
     "text": [
      "Durchschnittliche 65+ Population 2024: 4288\n",
      "Anzahl demografischer Hotspots 2024: 6\n",
      "\n",
      "AKTUELLE DEMOGRAFISCHE HOTSPOTS 2024:\n",
      "    Kreis  Population_65plus_2024 hotspot_intensity_2024\n",
      "10     11                    8459                   high\n",
      "8       9                    7180                   high\n",
      "6       7                    6442                   high\n",
      "9      10                    5313                 medium\n",
      "2       3                    5043                 medium\n",
      "1       2                    4372                 medium\n"
     ]
    }
   ],
   "source": [
    "# Aktuelle 65+ Population pro Kreis berechnen\n",
    "current_65_plus_groups = ['65-69', '70-74', '75-79', '80-84']\n",
    "current_65_plus = population_matrix_2024[current_65_plus_groups].sum(axis=1).reset_index()\n",
    "current_65_plus.columns = ['Kreis', 'Population_65plus_2024']\n",
    "\n",
    "# Sortieren nach Population\n",
    "current_65_plus = current_65_plus.sort_values('Population_65plus_2024', ascending=False)\n",
    "\n",
    "# Durchschnitt für Hotspot-Definition\n",
    "avg_population_2024 = current_65_plus['Population_65plus_2024'].mean()\n",
    "\n",
    "# Hotspots definieren (wie in der ursprünglichen Analyse)\n",
    "current_65_plus['is_demographic_hotspot_2024'] = (current_65_plus['Population_65plus_2024'] > avg_population_2024).astype(int)\n",
    "\n",
    "# Intensität definieren\n",
    "def get_intensity_2024(population, avg):\n",
    "    if population > avg * 1.5:\n",
    "        return \"high\"\n",
    "    elif population > avg:\n",
    "        return \"medium\"\n",
    "    else:\n",
    "        return \"low\"\n",
    "\n",
    "current_65_plus['hotspot_intensity_2024'] = current_65_plus.apply(\n",
    "    lambda row: get_intensity_2024(row['Population_65plus_2024'], avg_population_2024),\n",
    "    axis=1\n",
    ")\n",
    "\n",
    "print(f\"Durchschnittliche 65+ Population 2024: {avg_population_2024:.0f}\")\n",
    "print(f\"Anzahl demografischer Hotspots 2024: {current_65_plus['is_demographic_hotspot_2024'].sum()}\")\n",
    "\n",
    "print(\"\\nAKTUELLE DEMOGRAFISCHE HOTSPOTS 2024:\")\n",
    "hotspots_2024 = current_65_plus[current_65_plus['is_demographic_hotspot_2024'] == 1]\n",
    "print(hotspots_2024[['Kreis', 'Population_65plus_2024', 'hotspot_intensity_2024']])"
   ]
  },
  {
   "cell_type": "markdown",
   "metadata": {},
   "source": [
    "### 5. Kohortenverschiebung durchführen"
   ]
  },
  {
   "cell_type": "code",
   "execution_count": 8,
   "metadata": {},
   "outputs": [
    {
     "name": "stdout",
     "output_type": "stream",
     "text": [
      "Berechne Kohortenverschiebung...\n",
      "\n",
      "5.1 Neue Senioren:\n",
      "55-59 → 65-69: 19563 Personen (von 25573)\n",
      "60-64 → 70-74: 17020 Personen (von 21077)\n",
      "\n",
      "5.2 Alternde Senioren:\n",
      "65-69 → 75-79: 11542 Personen\n",
      "70-74 → 80-84: 9422 Personen\n",
      "75-79+ → 85+: 10564 Personen\n"
     ]
    }
   ],
   "source": [
    "# Initialisiere Ergebnis-DataFrame\n",
    "projection_2034 = population_matrix_2024.copy()\n",
    "projection_2034.columns = [f\"current_{col}\" for col in projection_2034.columns]\n",
    "\n",
    "# Neue Spalten für 2034 Projektionen\n",
    "cohort_results = pd.DataFrame(index=projection_2034.index)\n",
    "\n",
    "print(\"Berechne Kohortenverschiebung...\")\n",
    "\n",
    "# 5.1 Neue Senioren (55-59 → 65-69, 60-64 → 70-74)\n",
    "print(\"\\n5.1 Neue Senioren:\")\n",
    "\n",
    "# 55-59 werden zu 65-69\n",
    "new_65_69 = (projection_2034['current_55-59'] * \n",
    "              assumptions['survival_55_59'] * \n",
    "              assumptions['retention_new_seniors'])\n",
    "\n",
    "# 60-64 werden zu 70-74  \n",
    "new_70_74 = (projection_2034['current_60-64'] * \n",
    "              assumptions['survival_60_64'] * \n",
    "              assumptions['retention_new_seniors'])\n",
    "\n",
    "cohort_results['projected_65-69'] = new_65_69\n",
    "cohort_results['projected_70-74'] = new_70_74\n",
    "\n",
    "print(f\"55-59 → 65-69: {new_65_69.sum():.0f} Personen (von {projection_2034['current_55-59'].sum():.0f})\")\n",
    "print(f\"60-64 → 70-74: {new_70_74.sum():.0f} Personen (von {projection_2034['current_60-64'].sum():.0f})\")\n",
    "\n",
    "# 5.2 Alternde Senioren (65+ verschieben sich nach oben)\n",
    "print(\"\\n5.2 Alternde Senioren:\")\n",
    "\n",
    "# 65-69 werden zu 75-79\n",
    "aging_75_79 = (projection_2034['current_65-69'] * \n",
    "                assumptions['survival_65_69'] * \n",
    "                assumptions['retention_aging_seniors'])\n",
    "\n",
    "# 70-74 werden zu 80-84\n",
    "aging_80_84 = (projection_2034['current_70-74'] * \n",
    "                assumptions['survival_70_74'] * \n",
    "                assumptions['retention_aging_seniors'])\n",
    "\n",
    "# 75-79 werden zu 85-89 (über unseren Analysebereich hinaus)\n",
    "aging_85_plus = (projection_2034['current_75-79'] * \n",
    "                  assumptions['survival_75_79'] * \n",
    "                  assumptions['retention_aging_seniors'])\n",
    "\n",
    "# 80-84 werden zu 90-94 (über unseren Analysebereich hinaus)\n",
    "aging_90_plus = (projection_2034['current_80-84'] * \n",
    "                  assumptions['survival_80_84'] * \n",
    "                  assumptions['retention_aging_seniors'])\n",
    "\n",
    "cohort_results['projected_75-79'] = aging_75_79\n",
    "cohort_results['projected_80-84'] = aging_80_84\n",
    "cohort_results['projected_85+'] = aging_85_plus + aging_90_plus  # Kombiniert\n",
    "\n",
    "print(f\"65-69 → 75-79: {aging_75_79.sum():.0f} Personen\")\n",
    "print(f\"70-74 → 80-84: {aging_80_84.sum():.0f} Personen\")\n",
    "print(f\"75-79+ → 85+: {(aging_85_plus + aging_90_plus).sum():.0f} Personen\")"
   ]
  },
  {
   "cell_type": "markdown",
   "metadata": {},
   "source": [
    "### 6. Gesamte 65+ Population 2034 berechnen"
   ]
  },
  {
   "cell_type": "code",
   "execution_count": 9,
   "metadata": {},
   "outputs": [
    {
     "name": "stdout",
     "output_type": "stream",
     "text": [
      "VERGLEICH 2024 vs 2034:\n",
      "       Kreis  Population_2024  Population_2034  Absolute_Change  \\\n",
      "Kreis                                                             \n",
      "11        11             8459          11353.6           2894.6   \n",
      "9          9             7180           9082.0           1902.0   \n",
      "7          7             6442           7654.6           1212.6   \n",
      "3          3             5043           7049.4           2006.4   \n",
      "10        10             5313           6806.2           1493.2   \n",
      "2          2             4372           5614.7           1242.7   \n",
      "6          6             3978           5415.5           1437.5   \n",
      "12        12             3825           5057.8           1232.8   \n",
      "4          4             2366           3809.6           1443.6   \n",
      "8          8             2317           3031.9            714.9   \n",
      "5          5             1258           2136.5            878.5   \n",
      "1          1              909           1099.1            190.1   \n",
      "\n",
      "       Percent_Change  \n",
      "Kreis                  \n",
      "11               34.2  \n",
      "9                26.5  \n",
      "7                18.8  \n",
      "3                39.8  \n",
      "10               28.1  \n",
      "2                28.4  \n",
      "6                36.1  \n",
      "12               32.2  \n",
      "4                61.0  \n",
      "8                30.9  \n",
      "5                69.8  \n",
      "1                20.9  \n"
     ]
    }
   ],
   "source": [
    "# Alle 65+ Gruppen für 2034 summieren\n",
    "cohort_results['total_65plus_2034'] = (\n",
    "    cohort_results['projected_65-69'] +\n",
    "    cohort_results['projected_70-74'] +\n",
    "    cohort_results['projected_75-79'] +\n",
    "    cohort_results['projected_80-84'] +\n",
    "    cohort_results['projected_85+']\n",
    ")\n",
    "\n",
    "# Mit aktuellen Werten vergleichen\n",
    "comparison = pd.DataFrame({\n",
    "    'Kreis': cohort_results.index,\n",
    "    'Population_2024': current_65_plus.set_index('Kreis')['Population_65plus_2024'],\n",
    "    'Population_2034': cohort_results['total_65plus_2034'],\n",
    "})\n",
    "\n",
    "comparison['Absolute_Change'] = comparison['Population_2034'] - comparison['Population_2024']\n",
    "comparison['Percent_Change'] = ((comparison['Population_2034'] - comparison['Population_2024']) / \n",
    "                                comparison['Population_2024'] * 100)\n",
    "\n",
    "comparison = comparison.sort_values('Population_2034', ascending=False)\n",
    "\n",
    "print(\"VERGLEICH 2024 vs 2034:\")\n",
    "print(comparison.round(1))"
   ]
  },
  {
   "cell_type": "markdown",
   "metadata": {},
   "source": [
    "### 7. Kohortenverschiebung: Was kristallisiert sich heraus?"
   ]
  },
  {
   "cell_type": "code",
   "execution_count": 10,
   "metadata": {},
   "outputs": [
    {
     "name": "stdout",
     "output_type": "stream",
     "text": [
      "Durchschnitt 2024: 4288 Personen\n",
      "Durchschnitt 2034: 5676 Personen\n",
      "Änderung Durchschnitt: +32.4%\n",
      "\n",
      "Anzahl Hotspots 2024: 6\n",
      "Anzahl Hotspots 2034: 5\n"
     ]
    }
   ],
   "source": [
    "# Durchschnitt für 2034 berechnen\n",
    "avg_population_2034 = comparison['Population_2034'].mean()\n",
    "\n",
    "# Hotspots für 2034 definieren (GLEICHE METHODIK wie 2024!)\n",
    "comparison['is_demographic_hotspot_2034'] = (comparison['Population_2034'] > avg_population_2034).astype(int)\n",
    "\n",
    "# Intensität für 2034 definieren (GLEICHE METHODIK wie 2024!)\n",
    "def get_intensity_2034(population, avg):\n",
    "    if population > avg * 1.5:\n",
    "        return \"high\"\n",
    "    elif population > avg:\n",
    "        return \"medium\"\n",
    "    else:\n",
    "        return \"low\"\n",
    "\n",
    "comparison['hotspot_intensity_2034'] = comparison.apply(\n",
    "    lambda row: get_intensity_2034(row['Population_2034'], avg_population_2034),\n",
    "    axis=1\n",
    ")\n",
    "\n",
    "print(f\"Durchschnitt 2024: {avg_population_2024:.0f} Personen\")\n",
    "print(f\"Durchschnitt 2034: {avg_population_2034:.0f} Personen\")\n",
    "print(f\"Änderung Durchschnitt: {((avg_population_2034/avg_population_2024)-1)*100:+.1f}%\")\n",
    "\n",
    "print(f\"\\nAnzahl Hotspots 2024: {current_65_plus['is_demographic_hotspot_2024'].sum()}\")\n",
    "print(f\"Anzahl Hotspots 2034: {comparison['is_demographic_hotspot_2034'].sum()}\")"
   ]
  },
  {
   "cell_type": "markdown",
   "metadata": {},
   "source": [
    "### 8. Der entscheidende Vergleich: 2024 vs 2034 Hotspots"
   ]
  },
  {
   "cell_type": "code",
   "execution_count": 14,
   "metadata": {},
   "outputs": [
    {
     "name": "stdout",
     "output_type": "stream",
     "text": [
      "=== DEBUG INFO ===\n",
      "comparison DataFrame:\n",
      "Index: Index([11, 9, 7, 3, 10, 2, 6, 12, 4, 8, 5, 1], dtype='int64', name='Kreis')\n",
      "Columns: ['Kreis', 'Population_2024', 'Population_2034', 'Absolute_Change', 'Percent_Change', 'is_demographic_hotspot_2034', 'hotspot_intensity_2034']\n",
      "Shape: (12, 7)\n",
      "       Kreis  Population_2024  Population_2034  Absolute_Change  \\\n",
      "Kreis                                                             \n",
      "11        11             8459       11353.6250        2894.6250   \n",
      "9          9             7180        9081.9800        1901.9800   \n",
      "7          7             6442        7654.6350        1212.6350   \n",
      "3          3             5043        7049.4175        2006.4175   \n",
      "10        10             5313        6806.1525        1493.1525   \n",
      "\n",
      "       Percent_Change  is_demographic_hotspot_2034 hotspot_intensity_2034  \n",
      "Kreis                                                                      \n",
      "11          34.219470                            1                   high  \n",
      "9           26.489972                            1                   high  \n",
      "7           18.823890                            1                 medium  \n",
      "3           39.786189                            1                 medium  \n",
      "10          28.103755                            1                 medium  \n",
      "\n",
      "current_65_plus DataFrame:\n",
      "Index: Index([10, 8, 6, 9, 2, 1, 5, 11, 3, 7, 4, 0], dtype='int64')\n",
      "Columns: ['Kreis', 'Population_65plus_2024', 'is_demographic_hotspot_2024', 'hotspot_intensity_2024']\n",
      "Shape: (12, 4)\n",
      "    Kreis  Population_65plus_2024  is_demographic_hotspot_2024  \\\n",
      "10     11                    8459                            1   \n",
      "8       9                    7180                            1   \n",
      "6       7                    6442                            1   \n",
      "9      10                    5313                            1   \n",
      "2       3                    5043                            1   \n",
      "\n",
      "   hotspot_intensity_2024  \n",
      "10                   high  \n",
      "8                    high  \n",
      "6                    high  \n",
      "9                  medium  \n",
      "2                  medium  \n",
      "\n",
      "Nach reset_index():\n",
      "comparison Index: RangeIndex(start=0, stop=12, step=1)\n",
      "current_65_plus Index: RangeIndex(start=0, stop=12, step=1)\n"
     ]
    }
   ],
   "source": [
    "# DEBUG: Schauen wir uns die DataFrames genau an\n",
    "print(\"=== DEBUG INFO ===\")\n",
    "print(\"comparison DataFrame:\")\n",
    "print(f\"Index: {comparison.index}\")\n",
    "print(f\"Columns: {comparison.columns.tolist()}\")\n",
    "print(f\"Shape: {comparison.shape}\")\n",
    "print(comparison.head())\n",
    "\n",
    "print(\"\\ncurrent_65_plus DataFrame:\")\n",
    "print(f\"Index: {current_65_plus.index}\")\n",
    "print(f\"Columns: {current_65_plus.columns.tolist()}\")\n",
    "print(f\"Shape: {current_65_plus.shape}\")\n",
    "print(current_65_plus.head())\n",
    "\n",
    "# LÖSUNG: Index komplett zurücksetzen für beide DataFrames\n",
    "comparison = comparison.reset_index(drop=True)\n",
    "current_65_plus = current_65_plus.reset_index(drop=True)\n",
    "\n",
    "print(\"\\nNach reset_index():\")\n",
    "print(f\"comparison Index: {comparison.index}\")\n",
    "print(f\"current_65_plus Index: {current_65_plus.index}\")\n",
    "\n",
    "# Jetzt sollte der Merge funktionieren\n",
    "final_comparison = comparison.merge(\n",
    "    current_65_plus[['Kreis', 'is_demographic_hotspot_2024', 'hotspot_intensity_2024']], \n",
    "    on='Kreis'\n",
    ")"
   ]
  },
  {
   "cell_type": "code",
   "execution_count": 15,
   "metadata": {},
   "outputs": [
    {
     "name": "stdout",
     "output_type": "stream",
     "text": [
      "Bereite DataFrames für Merge vor...\n",
      "Kreise in comparison: [np.int64(1), np.int64(2), np.int64(3), np.int64(4), np.int64(5), np.int64(6), np.int64(7), np.int64(8), np.int64(9), np.int64(10), np.int64(11), np.int64(12)]\n",
      "Kreise in current_65_plus: [np.int64(1), np.int64(2), np.int64(3), np.int64(4), np.int64(5), np.int64(6), np.int64(7), np.int64(8), np.int64(9), np.int64(10), np.int64(11), np.int64(12)]\n",
      "Merge erfolgreich! Shape: (12, 9)\n",
      "\n",
      "VOLLSTÄNDIGER VERGLEICH (nach 2034 Population sortiert):\n",
      "    Kreis  Population_2024  Population_2034  Percent_Change  \\\n",
      "0      11             8459          11353.6            34.2   \n",
      "1       9             7180           9082.0            26.5   \n",
      "2       7             6442           7654.6            18.8   \n",
      "3       3             5043           7049.4            39.8   \n",
      "4      10             5313           6806.2            28.1   \n",
      "5       2             4372           5614.7            28.4   \n",
      "6       6             3978           5415.5            36.1   \n",
      "7      12             3825           5057.8            32.2   \n",
      "8       4             2366           3809.6            61.0   \n",
      "9       8             2317           3031.9            30.9   \n",
      "10      5             1258           2136.5            69.8   \n",
      "11      1              909           1099.1            20.9   \n",
      "\n",
      "   hotspot_intensity_2024 hotspot_intensity_2034          Hotspot_Change  \n",
      "0                    high                   high  Stabil: Bleibt Hotspot  \n",
      "1                    high                   high  Stabil: Bleibt Hotspot  \n",
      "2                    high                 medium  Stabil: Bleibt Hotspot  \n",
      "3                  medium                 medium  Stabil: Bleibt Hotspot  \n",
      "4                  medium                 medium  Stabil: Bleibt Hotspot  \n",
      "5                  medium                    low    Verlust: War Hotspot  \n",
      "6                     low                    low    Stabil: Kein Hotspot  \n",
      "7                     low                    low    Stabil: Kein Hotspot  \n",
      "8                     low                    low    Stabil: Kein Hotspot  \n",
      "9                     low                    low    Stabil: Kein Hotspot  \n",
      "10                    low                    low    Stabil: Kein Hotspot  \n",
      "11                    low                    low    Stabil: Kein Hotspot  \n"
     ]
    }
   ],
   "source": [
    "# DEBUG: Index-Problem beheben\n",
    "print(\"Bereite DataFrames für Merge vor...\")\n",
    "comparison_clean = comparison.reset_index(drop=True)\n",
    "current_65_plus_clean = current_65_plus.reset_index(drop=True)\n",
    "\n",
    "print(f\"Kreise in comparison: {sorted(comparison_clean['Kreis'].unique())}\")\n",
    "print(f\"Kreise in current_65_plus: {sorted(current_65_plus_clean['Kreis'].unique())}\")\n",
    "\n",
    "# Merge der Hotspot-Informationen\n",
    "final_comparison = comparison_clean.merge(\n",
    "    current_65_plus_clean[['Kreis', 'is_demographic_hotspot_2024', 'hotspot_intensity_2024']], \n",
    "    on='Kreis',\n",
    "    how='left'\n",
    ")\n",
    "\n",
    "print(f\"Merge erfolgreich! Shape: {final_comparison.shape}\")\n",
    "\n",
    "# Hotspot-Status Kategorien\n",
    "def categorize_hotspot_change(row):\n",
    "    if row['is_demographic_hotspot_2024'] == 1 and row['is_demographic_hotspot_2034'] == 1:\n",
    "        return \"Stabil: Bleibt Hotspot\"\n",
    "    elif row['is_demographic_hotspot_2024'] == 0 and row['is_demographic_hotspot_2034'] == 1:\n",
    "        return \"Neu: Wird Hotspot\"\n",
    "    elif row['is_demographic_hotspot_2024'] == 1 and row['is_demographic_hotspot_2034'] == 0:\n",
    "        return \"Verlust: War Hotspot\"\n",
    "    else:\n",
    "        return \"Stabil: Kein Hotspot\"\n",
    "\n",
    "final_comparison['Hotspot_Change'] = final_comparison.apply(categorize_hotspot_change, axis=1)\n",
    "\n",
    "# Sortieren für bessere Darstellung\n",
    "final_comparison_sorted = final_comparison.sort_values('Population_2034', ascending=False)\n",
    "\n",
    "print(\"\\nVOLLSTÄNDIGER VERGLEICH (nach 2034 Population sortiert):\")\n",
    "print(final_comparison_sorted[['Kreis', 'Population_2024', 'Population_2034', \n",
    "                              'Percent_Change', 'hotspot_intensity_2024', \n",
    "                              'hotspot_intensity_2034', 'Hotspot_Change']].round(1))"
   ]
  },
  {
   "cell_type": "markdown",
   "metadata": {},
   "source": [
    "### 9. was kommt dabei heraus? - Analyse"
   ]
  },
  {
   "cell_type": "code",
   "execution_count": 16,
   "metadata": {},
   "outputs": [
    {
     "name": "stdout",
     "output_type": "stream",
     "text": [
      "A) STABILITÄT DER HOTSPOTS:\n",
      "   Kreise, die STABIL Hotspots bleiben:\n",
      "   → Kreis 11: high → high (+34.2%)\n",
      "   → Kreis 9: high → high (+26.5%)\n",
      "   → Kreis 7: high → medium (+18.8%)\n",
      "   → Kreis 3: medium → medium (+39.8%)\n",
      "   → Kreis 10: medium → medium (+28.1%)\n",
      "\n",
      "B) NEUE HOTSPOTS:\n",
      "   KEINE neuen Hotspots!\n",
      "\n",
      "C) VERLORENE HOTSPOTS:\n",
      "   Kreise, die Hotspot-Status VERLIEREN:\n",
      "   → Kreis 2: medium → low (+28.4%)\n",
      "\n",
      "D) METHODISCHE INTERPRETATION:\n",
      "   Hotspot-Stabilität: 83.3% (5/6)\n",
      "   Neue Hotspots: 0 Kreise\n",
      "   Verlorene Hotspots: 1 Kreise\n",
      "   → HOHE STABILITÄT: Unsere Hotspot-Methodik ist robust!\n"
     ]
    }
   ],
   "source": [
    "# Verschiedene Kategorien analysieren\n",
    "stable_hotspots = final_comparison[final_comparison['Hotspot_Change'] == 'Stabil: Bleibt Hotspot']\n",
    "new_hotspots = final_comparison[final_comparison['Hotspot_Change'] == 'Neu: Wird Hotspot']\n",
    "lost_hotspots = final_comparison[final_comparison['Hotspot_Change'] == 'Verlust: War Hotspot']\n",
    "\n",
    "print(\"A) STABILITÄT DER HOTSPOTS:\")\n",
    "if len(stable_hotspots) > 0:\n",
    "    print(\"   Kreise, die STABIL Hotspots bleiben:\")\n",
    "    for _, row in stable_hotspots.iterrows():\n",
    "        print(f\"   → Kreis {row['Kreis']}: {row['hotspot_intensity_2024']} → {row['hotspot_intensity_2034']} ({row['Percent_Change']:+.1f}%)\")\n",
    "else:\n",
    "    print(\"   KEINE stabilen Hotspots!\")\n",
    "\n",
    "print(\"\\nB) NEUE HOTSPOTS:\")\n",
    "if len(new_hotspots) > 0:\n",
    "    print(\"   Kreise, die zu NEUEN Hotspots werden:\")\n",
    "    for _, row in new_hotspots.iterrows():\n",
    "        print(f\"   → Kreis {row['Kreis']}: {row['hotspot_intensity_2024']} → {row['hotspot_intensity_2034']} ({row['Percent_Change']:+.1f}%)\")\n",
    "else:\n",
    "    print(\"   KEINE neuen Hotspots!\")\n",
    "\n",
    "print(\"\\nC) VERLORENE HOTSPOTS:\")\n",
    "if len(lost_hotspots) > 0:\n",
    "    print(\"   Kreise, die Hotspot-Status VERLIEREN:\")\n",
    "    for _, row in lost_hotspots.iterrows():\n",
    "        print(f\"   → Kreis {row['Kreis']}: {row['hotspot_intensity_2024']} → {row['hotspot_intensity_2034']} ({row['Percent_Change']:+.1f}%)\")\n",
    "else:\n",
    "    print(\"   KEINE verlorenen Hotspots!\")\n",
    "\n",
    "# Methodische Interpretation\n",
    "print(\"\\nD) METHODISCHE INTERPRETATION:\")\n",
    "total_hotspots_2024 = len(stable_hotspots) + len(lost_hotspots)\n",
    "total_hotspots_2034 = len(stable_hotspots) + len(new_hotspots)\n",
    "stability_rate = len(stable_hotspots) / total_hotspots_2024 * 100 if total_hotspots_2024 > 0 else 0\n",
    "\n",
    "print(f\"   Hotspot-Stabilität: {stability_rate:.1f}% ({len(stable_hotspots)}/{total_hotspots_2024})\")\n",
    "print(f\"   Neue Hotspots: {len(new_hotspots)} Kreise\")\n",
    "print(f\"   Verlorene Hotspots: {len(lost_hotspots)} Kreise\")\n",
    "\n",
    "if stability_rate >= 70:\n",
    "    print(\"   → HOHE STABILITÄT: Unsere Hotspot-Methodik ist robust!\")\n",
    "elif len(stable_hotspots) == total_hotspots_2024 and len(new_hotspots) == 0:\n",
    "    print(\"   → PERFEKTE STABILITÄT: Exakt dieselben Hotspots!\")\n",
    "else:\n",
    "    print(\"   → DYNAMISCHE VERÄNDERUNG: Demografischer Wandel verändert Hotspots!\")"
   ]
  },
  {
   "cell_type": "code",
   "execution_count": 17,
   "metadata": {},
   "outputs": [
    {
     "name": "stdout",
     "output_type": "stream",
     "text": [
      "Ergebnisse gespeichert als: 'cohort_analysis_2024_vs_2034.csv'\n",
      "Exportiert: 12 Kreise mit vollständiger Kohortenanalyse\n"
     ]
    }
   ],
   "source": [
    "# Final DataFrame für Export\n",
    "export_df = final_comparison_sorted[['Kreis', 'Population_2024', 'Population_2034', \n",
    "                                    'Absolute_Change', 'Percent_Change',\n",
    "                                    'is_demographic_hotspot_2024', 'hotspot_intensity_2024',\n",
    "                                    'is_demographic_hotspot_2034', 'hotspot_intensity_2034',\n",
    "                                    'Hotspot_Change']].round(1)\n",
    "\n",
    "export_df.to_csv('cohort_analysis_2024_vs_2034.csv', index=False)\n",
    "\n",
    "print(\"Ergebnisse gespeichert als: 'cohort_analysis_2024_vs_2034.csv'\")\n",
    "print(f\"Exportiert: {len(export_df)} Kreise mit vollständiger Kohortenanalyse\")"
   ]
  }
 ],
 "metadata": {
  "kernelspec": {
   "display_name": ".venv",
   "language": "python",
   "name": "python3"
  },
  "language_info": {
   "codemirror_mode": {
    "name": "ipython",
    "version": 3
   },
   "file_extension": ".py",
   "mimetype": "text/x-python",
   "name": "python",
   "nbconvert_exporter": "python",
   "pygments_lexer": "ipython3",
   "version": "3.12.1"
  }
 },
 "nbformat": 4,
 "nbformat_minor": 2
}
