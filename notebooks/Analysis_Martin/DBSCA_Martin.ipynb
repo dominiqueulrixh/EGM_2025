{
 "cells": [
  {
   "cell_type": "code",
   "execution_count": 1,
   "metadata": {},
   "outputs": [],
   "source": [
    "import pandas as pd\n",
    "import numpy as np\n",
    "import matplotlib.pyplot as plt\n",
    "from sklearn.cluster import DBSCAN\n",
    "import geopandas as gpd\n",
    "from shapely.geometry import Point, Polygon\n",
    "import contextily as ctx\n",
    "from sklearn.preprocessing import StandardScaler\n",
    "import warnings\n",
    "warnings.filterwarnings('ignore')"
   ]
  },
  {
   "cell_type": "markdown",
   "metadata": {},
   "source": [
    "### 1 Daten einlesen "
   ]
  },
  {
   "cell_type": "markdown",
   "metadata": {},
   "source": [
    "#### 1.1 Verkehrsdaten einlesen"
   ]
  },
  {
   "cell_type": "code",
   "execution_count": 6,
   "metadata": {},
   "outputs": [
    {
     "name": "stdout",
     "output_type": "stream",
     "text": [
      "\n",
      "Überblick der Verkehrsdaten:\n",
      "         date  fuss_in  fuss_out          location_name  \\\n",
      "0  2020-01-01    810.0     758.0  Altstetterstrasse Ost   \n",
      "1  2020-01-02    982.0     930.0  Altstetterstrasse Ost   \n",
      "2  2020-01-03   1469.0    1357.0  Altstetterstrasse Ost   \n",
      "3  2020-01-04   1051.0    1205.0  Altstetterstrasse Ost   \n",
      "4  2020-01-05    976.0     983.0  Altstetterstrasse Ost   \n",
      "\n",
      "                            geometry     direction_in direction_out  \\\n",
      "0  POINT (8.4875018197 47.390989781)  Bhf. Altstetten   Lindenplatz   \n",
      "1  POINT (8.4875018197 47.390989781)  Bhf. Altstetten   Lindenplatz   \n",
      "2  POINT (8.4875018197 47.390989781)  Bhf. Altstetten   Lindenplatz   \n",
      "3  POINT (8.4875018197 47.390989781)  Bhf. Altstetten   Lindenplatz   \n",
      "4  POINT (8.4875018197 47.390989781)  Bhf. Altstetten   Lindenplatz   \n",
      "\n",
      "                          geometryMessstandort  \n",
      "0  POINT (8.487499519616366 47.39099069038348)  \n",
      "1  POINT (8.487499519616366 47.39099069038348)  \n",
      "2  POINT (8.487499519616366 47.39099069038348)  \n",
      "3  POINT (8.487499519616366 47.39099069038348)  \n",
      "4  POINT (8.487499519616366 47.39099069038348)  \n",
      "Anzahl der Datensätze: 18757\n",
      "Spalten: ['date', 'fuss_in', 'fuss_out', 'location_name', 'geometry', 'direction_in', 'direction_out', 'geometryMessstandort']\n"
     ]
    }
   ],
   "source": [
    "traffic_data = pd.read_csv(r'C:\\Users\\Admin\\Desktop\\EGM_2025\\data\\Cleaned\\verkehrszaehlungenUndMessstandorte.csv', delimiter =',', encoding='utf-8')\n",
    "\n",
    "# Überprüfen der ersten Zeilen\n",
    "print(\"\\nÜberblick der Verkehrsdaten:\")\n",
    "print(traffic_data.head())\n",
    "print(f\"Anzahl der Datensätze: {len(traffic_data)}\")\n",
    "print(f\"Spalten: {traffic_data.columns.tolist()}\")"
   ]
  },
  {
   "cell_type": "markdown",
   "metadata": {},
   "source": [
    "#### 1.2 Bevölkerungsdaten einlesen"
   ]
  },
  {
   "cell_type": "code",
   "execution_count": 2,
   "metadata": {},
   "outputs": [
    {
     "name": "stdout",
     "output_type": "stream",
     "text": [
      "\n",
      "Überblick der Bevölkerungsdaten:\n",
      "   Year AgeGroup  Kreis Sex  Origin  PopulationCount\n",
      "0  1993    65-69      1   M       1               93\n",
      "1  1993    65-69      1   M       2                9\n",
      "2  1993    65-69      1   W       1              128\n",
      "3  1993    65-69      1   W       2               13\n",
      "4  1993    65-69      2   M       1              663\n",
      "Anzahl der Datensätze: 10379\n",
      "Spalten: ['Year', 'AgeGroup', 'Kreis', 'Sex', 'Origin', 'PopulationCount']\n"
     ]
    }
   ],
   "source": [
    "population_data = pd.read_csv(r'C:\\Users\\Admin\\Desktop\\EGM_2025\\data\\Cleaned\\GeschlechtAlterQuartiere_65plus.csv', delimiter=',', encoding='utf-8')\n",
    "\n",
    "# Überprüfen der ersten Zeilen\n",
    "print(\"\\nÜberblick der Bevölkerungsdaten:\")\n",
    "print(population_data.head())\n",
    "print(f\"Anzahl der Datensätze: {len(population_data)}\")\n",
    "print(f\"Spalten: {population_data.columns.tolist()}\")"
   ]
  },
  {
   "cell_type": "markdown",
   "metadata": {},
   "source": [
    "### 2. Datenaufbereitung"
   ]
  },
  {
   "cell_type": "markdown",
   "metadata": {},
   "source": [
    "#### 2.1 Verkehrsdaten aufbereiten"
   ]
  },
  {
   "cell_type": "code",
   "execution_count": 8,
   "metadata": {},
   "outputs": [
    {
     "name": "stdout",
     "output_type": "stream",
     "text": [
      "\n",
      "Aggregierte Standortstatistiken:\n",
      "            location_name      fuss_in     fuss_out       lon        lat  \\\n",
      "0   Altstetterstrasse Ost  1566.665254  1140.144068  8.487502  47.390990   \n",
      "1  Altstetterstrasse West   419.139535   490.790698  8.487287  47.391009   \n",
      "2               Arboretum  2500.362745  1450.927451  8.537022  47.362581   \n",
      "3          Cassiopeiasteg   737.462382   587.590387  8.537241  47.342856   \n",
      "4           Chorherrenweg   103.969828    93.838362  8.498451  47.401319   \n",
      "\n",
      "   total_pedestrians  \n",
      "0        2706.809322  \n",
      "1         909.930233  \n",
      "2        3951.290196  \n",
      "3        1325.052769  \n",
      "4         197.808190  \n"
     ]
    }
   ],
   "source": [
    "# Extrahieren der Koordinaten aus dem POINT-String\n",
    "def extract_coordinates(point_str):\n",
    "    try:\n",
    "        # Entfernen von 'POINT (' und ')'\n",
    "        coords = point_str.replace('POINT (', '').replace(')', '')\n",
    "        lon, lat = coords.split(' ')\n",
    "        return float(lon), float(lat)\n",
    "    except:\n",
    "        return None, None\n",
    "\n",
    "# Koordinaten extrahieren\n",
    "traffic_data['lon'], traffic_data['lat'] = zip(*traffic_data['geometry'].apply(extract_coordinates))\n",
    "\n",
    "# Standorte aggregieren (Durchschnittliche Fussgängerzahlen pro Standort)\n",
    "location_stats = traffic_data.groupby('location_name').agg({\n",
    "    'fuss_in': 'mean',\n",
    "    'fuss_out': 'mean',\n",
    "    'lon': 'first',\n",
    "    'lat': 'first'\n",
    "}).reset_index()\n",
    "\n",
    "# Gesamtfussgängerzahl berechnen\n",
    "location_stats['total_pedestrians'] = location_stats['fuss_in'] + location_stats['fuss_out']\n",
    "\n",
    "print(\"\\nAggregierte Standortstatistiken:\")\n",
    "print(location_stats.head())"
   ]
  },
  {
   "cell_type": "markdown",
   "metadata": {},
   "source": [
    "#### 2.2 Bevölkerungsdaten aufbereiten"
   ]
  },
  {
   "cell_type": "code",
   "execution_count": 3,
   "metadata": {},
   "outputs": [
    {
     "name": "stdout",
     "output_type": "stream",
     "text": [
      "\n",
      "Seniorenpopulation nach Kreis (2024):\n",
      "    Kreis  Year  Population_65plus\n",
      "54     11  2024               2682\n",
      "44      9  2024               2172\n",
      "34      7  2024               1751\n",
      "14      3  2024               1648\n",
      "49     10  2024               1632\n"
     ]
    }
   ],
   "source": [
    "# Filtern für die letzten Jahre (2020-2024)\n",
    "recent_years = list(range(2020, 2025))\n",
    "recent_population = population_data[population_data['Year'].isin(recent_years)]\n",
    "\n",
    "# Nach Kreis und Jahr gruppieren (nur 65+ Altersgruppen)\n",
    "senior_pop = recent_population[recent_population['AgeGroup'].str.contains('65')]\n",
    "kreis_year_pop = senior_pop.groupby(['Kreis', 'Year'])['PopulationCount'].sum().reset_index()\n",
    "\n",
    "# Pivot-Tabelle erstellen, um die Entwicklung zu sehen\n",
    "pop_pivot = kreis_year_pop.pivot(index='Kreis', columns='Year', values='PopulationCount')\n",
    "pop_pivot['growth_rate'] = ((pop_pivot[2024] - pop_pivot[2020]) / pop_pivot[2020] * 100).round(2)\n",
    "\n",
    "# Letzte Jahr (2024) als Hauptreferenz\n",
    "latest_pop = kreis_year_pop[kreis_year_pop['Year'] == 2024].copy()\n",
    "latest_pop.rename(columns={'PopulationCount': 'Population_65plus'}, inplace=True)\n",
    "\n",
    "print(\"\\nSeniorenpopulation nach Kreis (2024):\")\n",
    "print(latest_pop.sort_values('Population_65plus', ascending=False).head())"
   ]
  },
  {
   "cell_type": "code",
   "execution_count": 4,
   "metadata": {},
   "outputs": [
    {
     "name": "stdout",
     "output_type": "stream",
     "text": [
      "Year   2020  2021  2022  2023  2024  growth_rate\n",
      "Kreis                                           \n",
      "1       284   291   274   246   258        -9.15\n",
      "2      1193  1220  1280  1288  1299         8.89\n",
      "3      1580  1596  1594  1626  1648         4.30\n",
      "4       844   869   873   856   886         4.98\n",
      "5       408   431   460   504   519        27.21\n",
      "6      1210  1188  1176  1232  1242         2.64\n",
      "7      1787  1777  1743  1703  1751        -2.01\n",
      "8       717   729   747   753   737         2.79\n",
      "9      2072  2099  2133  2181  2172         4.83\n",
      "10     1556  1589  1619  1630  1632         4.88\n",
      "11     2625  2638  2592  2625  2682         2.17\n",
      "12     1218  1208  1194  1212  1204        -1.15\n"
     ]
    }
   ],
   "source": [
    "print(pop_pivot)"
   ]
  },
  {
   "cell_type": "markdown",
   "metadata": {},
   "source": [
    "### 3. DBSCAN-Analyse für Verkehrshotspots"
   ]
  },
  {
   "cell_type": "code",
   "execution_count": 10,
   "metadata": {},
   "outputs": [
    {
     "name": "stdout",
     "output_type": "stream",
     "text": [
      "\n",
      "Anzahl der identifizierten Verkehrshotspots: 13\n",
      "            location_name  cluster  is_hotspot hotspot_intensity\n",
      "0   Altstetterstrasse Ost        0           1            medium\n",
      "1  Altstetterstrasse West        0           1               low\n",
      "2               Arboretum       -1           0              none\n",
      "3          Cassiopeiasteg       -1           0              none\n",
      "4           Chorherrenweg        1           1               low\n",
      "5                 Dammweg        2           1            medium\n",
      "6              Fischerweg        3           1               low\n",
      "7             Hardeggsteg       -1           0              none\n",
      "8              Katzenbach       -1           0              none\n",
      "9        Kloster-Fahr-Weg        3           1               low\n"
     ]
    }
   ],
   "source": [
    "# 3.1 Koordinaten für DBSCAN vorbereiten\n",
    "X = location_stats[['lon', 'lat']].values\n",
    "\n",
    "# 3.2 DBSCAN durchführen (eps = 0.003 entspricht ca. 300m)\n",
    "eps_value = 0.003  # ca. 300m in Grad\n",
    "min_samples = 2\n",
    "\n",
    "db = DBSCAN(eps=eps_value, min_samples=min_samples, metric='haversine').fit(X)\n",
    "labels = db.labels_\n",
    "\n",
    "# Cluster-Labels zu den Daten hinzufügen\n",
    "location_stats['cluster'] = labels\n",
    "location_stats['is_hotspot'] = (labels != -1).astype(int)  # -1 = Noise\n",
    "\n",
    "# Hotspot-Intensität basierend auf Fussgängeraufkommen\n",
    "def get_intensity(pedestrians):\n",
    "    if pedestrians > 3000:\n",
    "        return \"high\"\n",
    "    elif pedestrians > 1500:\n",
    "        return \"medium\"\n",
    "    else:\n",
    "        return \"low\"\n",
    "\n",
    "location_stats['hotspot_intensity'] = location_stats.apply(\n",
    "    lambda row: get_intensity(row['total_pedestrians']) if row['is_hotspot'] == 1 else \"none\", \n",
    "    axis=1\n",
    ")\n",
    "\n",
    "print(\"\\nAnzahl der identifizierten Verkehrshotspots:\", sum(location_stats['is_hotspot']))\n",
    "print(location_stats[['location_name', 'cluster', 'is_hotspot', 'hotspot_intensity']].head(10))"
   ]
  },
  {
   "cell_type": "markdown",
   "metadata": {},
   "source": [
    "### 4. Demographische Hotspots identifizieren"
   ]
  },
  {
   "cell_type": "code",
   "execution_count": 11,
   "metadata": {},
   "outputs": [
    {
     "name": "stdout",
     "output_type": "stream",
     "text": [
      "\n",
      "Demographische Hotspots (Durchschnitt: 1336):\n",
      "    Kreis  Population_65plus  is_demographic_hotspot  \\\n",
      "54     11               2682                       1   \n",
      "44      9               2172                       1   \n",
      "34      7               1751                       1   \n",
      "14      3               1648                       1   \n",
      "49     10               1632                       1   \n",
      "9       2               1299                       0   \n",
      "29      6               1242                       0   \n",
      "59     12               1204                       0   \n",
      "19      4                886                       0   \n",
      "39      8                737                       0   \n",
      "24      5                519                       0   \n",
      "4       1                258                       0   \n",
      "\n",
      "   demographic_hotspot_intensity  \n",
      "54                          high  \n",
      "44                          high  \n",
      "34                        medium  \n",
      "14                        medium  \n",
      "49                        medium  \n",
      "9                            low  \n",
      "29                           low  \n",
      "59                           low  \n",
      "19                           low  \n",
      "39                           low  \n",
      "24                           low  \n",
      "4                            low  \n"
     ]
    }
   ],
   "source": [
    "# 4.1 Durchschnitt und Median berechnen\n",
    "avg_population = latest_pop['Population_65plus'].mean()\n",
    "median_population = latest_pop['Population_65plus'].median()\n",
    "\n",
    "# 4.2 Demographische Hotspots definieren\n",
    "latest_pop['is_demographic_hotspot'] = (latest_pop['Population_65plus'] > avg_population).astype(int)\n",
    "\n",
    "# 4.3 Intensität berechnen\n",
    "def get_demographic_intensity(population, avg):\n",
    "    if population > avg * 1.5:\n",
    "        return \"high\"\n",
    "    elif population > avg:\n",
    "        return \"medium\"\n",
    "    else:\n",
    "        return \"low\"\n",
    "\n",
    "latest_pop['demographic_hotspot_intensity'] = latest_pop.apply(\n",
    "    lambda row: get_demographic_intensity(row['Population_65plus'], avg_population),\n",
    "    axis=1\n",
    ")\n",
    "\n",
    "print(\"\\nDemographische Hotspots (Durchschnitt: {:.0f}):\".format(avg_population))\n",
    "print(latest_pop.sort_values('Population_65plus', ascending=False)[\n",
    "    ['Kreis', 'Population_65plus', 'is_demographic_hotspot', 'demographic_hotspot_intensity']\n",
    "])"
   ]
  },
  {
   "cell_type": "markdown",
   "metadata": {},
   "source": [
    "### 5. CSV-Dateien speichern"
   ]
  },
  {
   "cell_type": "code",
   "execution_count": 12,
   "metadata": {},
   "outputs": [
    {
     "name": "stdout",
     "output_type": "stream",
     "text": [
      "CSV-Dateien wurden gespeichert.\n"
     ]
    }
   ],
   "source": [
    "# 5.1 Verkehrshotspots CSV\n",
    "traffic_hotspots_df = location_stats[[\n",
    "    'location_name', 'lon', 'lat', 'total_pedestrians', \n",
    "    'cluster', 'is_hotspot', 'hotspot_intensity'\n",
    "]]\n",
    "\n",
    "traffic_hotspots_df.to_csv('traffic_hotspots.csv', index=False)\n",
    "\n",
    "# 5.2 Demographische Hotspots CSV\n",
    "demographic_hotspots_df = latest_pop[[\n",
    "    'Kreis', 'Population_65plus', 'is_demographic_hotspot', 'demographic_hotspot_intensity'\n",
    "]]\n",
    "\n",
    "demographic_hotspots_df.to_csv('demographic_hotspots.csv', index=False)\n",
    "\n",
    "print(\"CSV-Dateien wurden gespeichert.\")\n",
    "\n"
   ]
  }
 ],
 "metadata": {
  "kernelspec": {
   "display_name": ".venv",
   "language": "python",
   "name": "python3"
  },
  "language_info": {
   "codemirror_mode": {
    "name": "ipython",
    "version": 3
   },
   "file_extension": ".py",
   "mimetype": "text/x-python",
   "name": "python",
   "nbconvert_exporter": "python",
   "pygments_lexer": "ipython3",
   "version": "3.12.1"
  }
 },
 "nbformat": 4,
 "nbformat_minor": 2
}
