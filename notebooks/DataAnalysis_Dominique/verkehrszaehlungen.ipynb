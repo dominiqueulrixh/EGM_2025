{
 "cells": [
  {
   "cell_type": "code",
   "id": "initial_id",
   "metadata": {
    "collapsed": true,
    "ExecuteTime": {
     "end_time": "2025-04-26T17:19:15.133223Z",
     "start_time": "2025-04-26T17:19:12.298562Z"
    }
   },
   "source": [
    "import pandas as pd\n",
    "import matplotlib.pyplot as plt\n",
    "import seaborn as sns\n",
    "\n",
    "# Datei einlesen (ggf. Pfad anpassen)\n",
    "df_verkehr2024 = pd.read_csv(\n",
    "    \"../../data/Rohdaten/verkehrszaehlungen_csv/2024_verkehrszaehlungen_werte_fussgaenger_velo.csv\",\n",
    "    delimiter=\",\",\n",
    "    encoding=\"utf-8\",\n",
    "    parse_dates=[\"DATUM\"]\n",
    ")\n",
    "\n",
    "df_verkehr2022 = pd.read_csv(\n",
    "    \"../../data/Rohdaten/verkehrszaehlungen_csv/2022_verkehrszaehlungen_werte_fussgaenger_velo.csv\",\n",
    "    delimiter=\",\",\n",
    "    encoding=\"utf-8\",\n",
    "    parse_dates=[\"DATUM\"]\n",
    ")\n",
    "\n",
    "df_verkehr2023 = pd.read_csv(\n",
    "    \"../../data/Rohdaten/verkehrszaehlungen_csv/2023_verkehrszaehlungen_werte_fussgaenger_velo.csv\",\n",
    "    delimiter=\",\",\n",
    "    encoding=\"utf-8\",\n",
    "    parse_dates=[\"DATUM\"]\n",
    ")\n",
    "\n",
    "df_verkehr2025 = pd.read_csv(\n",
    "    \"../../data/Rohdaten/verkehrszaehlungen_csv/2025_verkehrszaehlungen_werte_fussgaenger_velo-1.csv\",\n",
    "    delimiter=\",\",\n",
    "    encoding=\"utf-8\",\n",
    "    parse_dates=[\"DATUM\"]\n",
    ")\n",
    "\n",
    "df_verkehr2021 = pd.read_csv(\n",
    "    \"../../data/Rohdaten/verkehrszaehlungen_csv/2021_verkehrszaehlungen_werte_fussgaenger_velo.csv\",\n",
    "    delimiter=\",\",\n",
    "    encoding=\"utf-8\",\n",
    "    parse_dates=[\"DATUM\"]\n",
    ")\n",
    "\n",
    "df_verkehr2020 = pd.read_csv(\n",
    "    \"../../data/Rohdaten/verkehrszaehlungen_csv/2020_verkehrszaehlungen_werte_fussgaenger_velo.csv\",\n",
    "    delimiter=\",\",\n",
    "    encoding=\"utf-8\",\n",
    "    parse_dates=[\"DATUM\"]\n",
    ")\n",
    "\n",
    "# Alle Jahres-Datensätze in eine Liste packen\n",
    "verkehrsjahre = [\n",
    "    df_verkehr2020,\n",
    "    df_verkehr2021,\n",
    "    df_verkehr2022,\n",
    "    df_verkehr2023,\n",
    "    df_verkehr2024,\n",
    "    df_verkehr2025\n",
    "]\n",
    "\n",
    "# Jetzt alle zusammenführen\n",
    "df_verkehr = pd.concat(verkehrsjahre, ignore_index=True)\n",
    "\n",
    "# Überblick über Spalten und Datentypen\n",
    "print(\"Datentypen:\")\n",
    "print(df_verkehr.dtypes)\n",
    "\n",
    "# Nullwerte prüfen\n",
    "print(\"\\nNullwerte pro Spalte:\")\n",
    "print(df_verkehr.isnull().sum().sort_values(ascending=False))\n",
    "\n",
    "# Dimensionen\n",
    "print(\"\\nForm:\", df_verkehr.shape)\n",
    "\n",
    "# Erste 5 Zeilen\n",
    "print(\"\\nErste 5 Zeilen:\")\n",
    "print(df_verkehr.head())\n",
    "\n",
    "# Eindeutige Werte je Spalte\n",
    "print(\"\\nEindeutige Werte pro Spalte:\")\n",
    "print(df_verkehr.nunique().sort_values(ascending=False))\n",
    "\n",
    "# Spalten mit nur einem Wert\n",
    "print(\"\\nSpalten mit nur einem Wert:\")\n",
    "print(df_verkehr.columns[df_verkehr.nunique() <= 1])\n",
    "\n",
    "# Doppelte Zeilen prüfen\n",
    "print(\"\\nDoppelte Zeilen:\", df_verkehr.duplicated().sum())\n"
   ],
   "outputs": [
    {
     "name": "stdout",
     "output_type": "stream",
     "text": [
      "Datentypen:\n",
      "FK_STANDORT             int64\n",
      "DATUM          datetime64[ns]\n",
      "VELO_IN               float64\n",
      "VELO_OUT              float64\n",
      "FUSS_IN               float64\n",
      "FUSS_OUT              float64\n",
      "OST                     int64\n",
      "NORD                    int64\n",
      "dtype: object\n",
      "\n",
      "Nullwerte pro Spalte:\n",
      "FUSS_IN        3959732\n",
      "FUSS_OUT       3959732\n",
      "VELO_OUT       2294781\n",
      "VELO_IN        1793023\n",
      "FK_STANDORT          0\n",
      "DATUM                0\n",
      "OST                  0\n",
      "NORD                 0\n",
      "dtype: int64\n",
      "\n",
      "Form: (5759091, 8)\n",
      "\n",
      "Erste 5 Zeilen:\n",
      "   FK_STANDORT      DATUM  VELO_IN  VELO_OUT  FUSS_IN  FUSS_OUT      OST  \\\n",
      "0         3927 2020-01-01      1.0       1.0      NaN       NaN  2682873   \n",
      "1         2977 2020-01-01      1.0       NaN      NaN       NaN  2682681   \n",
      "2         3923 2020-01-01      0.0       0.0      NaN       NaN  2681385   \n",
      "3         2979 2020-01-01      0.0       0.0      NaN       NaN  2681858   \n",
      "4           60 2020-01-01      0.0       0.0      NaN       NaN  2682731   \n",
      "\n",
      "      NORD  \n",
      "0  1245891  \n",
      "1  1250570  \n",
      "2  1247736  \n",
      "3  1251991  \n",
      "4  1247708  \n",
      "\n",
      "Eindeutige Werte pro Spalte:\n",
      "DATUM          186216\n",
      "FUSS_IN           403\n",
      "FUSS_OUT          334\n",
      "VELO_IN           284\n",
      "VELO_OUT          201\n",
      "FK_STANDORT        81\n",
      "OST                55\n",
      "NORD               54\n",
      "dtype: int64\n",
      "\n",
      "Spalten mit nur einem Wert:\n",
      "Index([], dtype='object')\n",
      "\n",
      "Doppelte Zeilen: 157\n"
     ]
    }
   ],
   "execution_count": 109
  },
  {
   "metadata": {},
   "cell_type": "markdown",
   "source": [
    "### 📝 Datenprüfung: Fuss- und Veloverkehrszählungen 2025 (`verkehrszaehlungen_werte_fussgaenger_velo-2.csv`)\n",
    "\n",
    "Der Datensatz enthält **Verkehrszähldaten für das Jahr 2025** an **26 automatischen Messstellen** in der Stadt Zürich. Es wurden insgesamt **253'345 Zeilen** eingelesen, die sowohl Fussgänger- als auch Veloverkehrsbewegungen nach Richtung (IN/OUT) erfassen.\n",
    "\n",
    "**Datenstruktur:**\n",
    "- Es sind **acht Spalten** vorhanden:\n",
    "  - `FK_STANDORT`: Messstellen-ID\n",
    "  - `DATUM`: Zeitstempel (automatisch als `datetime` erkannt)\n",
    "  - `VELO_IN`, `VELO_OUT`: einfahrende / ausfahrende Fahrräder\n",
    "  - `FUSS_IN`, `FUSS_OUT`: ein-/ausgehende Fussgänger:innen\n",
    "  - `OST`, `NORD`: Koordinaten im LV95-System (CH1903+)\n",
    "\n",
    "**Nullwerte:**\n",
    "- **Fussverkehrsdaten fehlen für viele Einträge**:\n",
    "  - `FUSS_IN` und `FUSS_OUT`: jeweils **~91 % fehlend** (231'561 von 253'345)\n",
    "- Auch bei Velodaten gibt es Lücken:\n",
    "  - `VELO_IN`: 21'784 fehlende Werte\n",
    "  - `VELO_OUT`: 42'512 fehlende Werte\n",
    "- Die Standort- und Zeitinformationen sind vollständig vorhanden.\n",
    "\n",
    "**Eindeutige Werte:**\n",
    "- Es gibt Daten für **26 unterschiedliche Messstellen** (`FK_STANDORT`)\n",
    "- Der Zeitraum umfasst **10'460 verschiedene Tage/Zeitpunkte**\n",
    "- Die Zählwerte sind **numerisch (float)** und enthalten **eine moderate Spannweite** (z.B. 132 verschiedene Werte für `VELO_IN`)\n",
    "\n",
    "**Doppelte Einträge:**\n",
    "- Es wurden **keine doppelten Zeilen** gefunden → saubere Messstruktur\n",
    "\n",
    "**Fazit:**\n",
    "Der Datensatz ist gut strukturiert, allerdings **nicht vollständig für alle Zählarten**. Besonders im Bereich Fussgängerdaten fehlen Werte – dies muss bei der Analyse berücksichtigt werden (z.B. Filtern auf valide Einträge pro Verkehrsart). Die Koordinaten ermöglichen eine direkte räumliche Zuordnung zu Quartieren oder Wegenetzen. Ideal geeignet zur Berechnung von **Verkehrsintensitäten pro Standort**, zur **zeitlichen Trendanalyse** oder zur **Versorgungsbewertung in stark frequentierten Bereichen**.\n"
   ],
   "id": "3ff7996c5c26eff8"
  },
  {
   "metadata": {
    "ExecuteTime": {
     "end_time": "2025-04-26T17:19:15.293020Z",
     "start_time": "2025-04-26T17:19:15.153277Z"
    }
   },
   "cell_type": "code",
   "source": [
    "# Zuerst nur die benötigten Spalten auswählen (ohne Velo-Daten)\n",
    "df_verkehr = df_verkehr[[\n",
    "    \"FK_STANDORT\", \"DATUM\", \"FUSS_IN\", \"FUSS_OUT\", \"OST\", \"NORD\"\n",
    "]].copy()\n",
    "\n",
    "# Spalten umbenennen auf englische kleine Namen\n",
    "df_verkehr.rename(columns={\n",
    "    \"FK_STANDORT\": \"fk_standort\",\n",
    "    \"DATUM\": \"date\",\n",
    "    \"FUSS_IN\": \"fuss_in\",\n",
    "    \"FUSS_OUT\": \"fuss_out\",\n",
    "    \"OST\": \"east\",\n",
    "    \"NORD\": \"north\"\n",
    "}, inplace=True)\n",
    "\n",
    "# Zeilen löschen, bei denen sowohl foot_in als auch foot_out leer (NaN) sind\n",
    "df_verkehr = df_verkehr.dropna(subset=[\"fuss_in\", \"fuss_out\"], how=\"all\")\n",
    "\n",
    "# Überblick nach Umbenennung und Bereinigung\n",
    "print(\"Neue Form nach Reduktion und Bereinigung:\", df_verkehr.shape)\n",
    "print(\"\\nErste 5 Zeilen:\")\n",
    "print(df_verkehr.head())\n"
   ],
   "id": "4a8cc14674fe4207",
   "outputs": [
    {
     "name": "stdout",
     "output_type": "stream",
     "text": [
      "Neue Form nach Reduktion und Bereinigung: (1799359, 6)\n",
      "\n",
      "Erste 5 Zeilen:\n",
      "    fk_standort       date  fuss_in  fuss_out     east    north\n",
      "5          2985 2020-01-01      2.0       4.0  2680439  1249930\n",
      "6          1357 2020-01-01    109.0     129.0  2682973  1246329\n",
      "7             2 2020-01-01      1.0       1.0  2679190  1249436\n",
      "10         1358 2020-01-01      1.0       5.0  2683557  1251702\n",
      "11         2984 2020-01-01      7.0       5.0  2682978  1248744\n"
     ]
    }
   ],
   "execution_count": 110
  },
  {
   "metadata": {
    "ExecuteTime": {
     "end_time": "2025-04-26T17:19:15.546114Z",
     "start_time": "2025-04-26T17:19:15.297226Z"
    }
   },
   "cell_type": "code",
   "source": [
    "# Erst sicherstellen, dass die 'date'-Spalte wirklich nur das Datum enthält (ohne Uhrzeit)\n",
    "df_verkehr[\"date\"] = pd.to_datetime(df_verkehr[\"date\"]).dt.date\n",
    "\n",
    "# Dann nach Standort und Datum gruppieren und summieren\n",
    "df_verkehr_daily = df_verkehr.groupby([\"fk_standort\", \"date\"], as_index=False).agg({\n",
    "    \"fuss_in\": \"sum\",\n",
    "    \"fuss_out\": \"sum\",\n",
    "    \"east\": \"first\",\n",
    "    \"north\": \"first\"\n",
    "})\n",
    "\n",
    "# Kontrolle: neue Form und erste Zeilen\n",
    "print(\"Form nach täglicher Aggregation:\", df_verkehr_daily.shape)\n",
    "print(\"\\nErste 5 Zeilen:\")\n",
    "print(df_verkehr_daily.head())\n"
   ],
   "id": "6e90c43026dbcaa8",
   "outputs": [
    {
     "name": "stdout",
     "output_type": "stream",
     "text": [
      "Form nach täglicher Aggregation: (18757, 6)\n",
      "\n",
      "Erste 5 Zeilen:\n",
      "   fk_standort        date  fuss_in  fuss_out     east    north\n",
      "0            2  2020-01-01    810.0     758.0  2679190  1249436\n",
      "1            2  2020-01-02    982.0     930.0  2679190  1249436\n",
      "2            2  2020-01-03   1469.0    1357.0  2679190  1249436\n",
      "3            2  2020-01-04   1051.0    1205.0  2679190  1249436\n",
      "4            2  2020-01-05    976.0     983.0  2679190  1249436\n"
     ]
    }
   ],
   "execution_count": 111
  },
  {
   "metadata": {
    "ExecuteTime": {
     "end_time": "2025-04-26T17:19:15.637188Z",
     "start_time": "2025-04-26T17:19:15.608898Z"
    }
   },
   "cell_type": "code",
   "source": [
    "# Aggregierten Tages-Datensatz als CSV speichern\n",
    "df_verkehr_daily.to_csv(\n",
    "    \"../../data/Cleaned/VerkehrszaehlungenFussgaengerDaily.csv\",\n",
    "    index=False,\n",
    "    encoding=\"utf-8\"\n",
    ")\n",
    "\n",
    "print(\"✅ Der aggregierte Fussgänger-Tagesdatensatz wurde erfolgreich gespeichert!\")\n"
   ],
   "id": "b6c0f7d95d27007e",
   "outputs": [
    {
     "name": "stdout",
     "output_type": "stream",
     "text": [
      "✅ Der aggregierte Fussgänger-Tagesdatensatz wurde erfolgreich gespeichert!\n"
     ]
    }
   ],
   "execution_count": 112
  },
  {
   "metadata": {
    "ExecuteTime": {
     "end_time": "2025-04-26T17:19:15.669206Z",
     "start_time": "2025-04-26T17:19:15.647897Z"
    }
   },
   "cell_type": "code",
   "source": [
    "\n",
    "anzahl_fussgaenger_standorte = df_verkehr[df_verkehr[[\"fuss_in\", \"fuss_out\"]].notna().any(axis=1)][\"fk_standort\"].nunique()\n",
    "\n",
    "\n",
    "print(f\"🏙️ Anzahl Standorte mit Fussgänger-Daten: {anzahl_fussgaenger_standorte}\")\n"
   ],
   "id": "c39e9e52562430e2",
   "outputs": [
    {
     "name": "stdout",
     "output_type": "stream",
     "text": [
      "🏙️ Anzahl Standorte mit Fussgänger-Daten: 39\n"
     ]
    }
   ],
   "execution_count": 113
  },
  {
   "metadata": {},
   "cell_type": "code",
   "outputs": [],
   "execution_count": null,
   "source": "",
   "id": "d30a5b4ac14328ef"
  }
 ],
 "metadata": {
  "kernelspec": {
   "display_name": "Python 3",
   "language": "python",
   "name": "python3"
  },
  "language_info": {
   "codemirror_mode": {
    "name": "ipython",
    "version": 2
   },
   "file_extension": ".py",
   "mimetype": "text/x-python",
   "name": "python",
   "nbconvert_exporter": "python",
   "pygments_lexer": "ipython2",
   "version": "2.7.6"
  }
 },
 "nbformat": 4,
 "nbformat_minor": 5
}
