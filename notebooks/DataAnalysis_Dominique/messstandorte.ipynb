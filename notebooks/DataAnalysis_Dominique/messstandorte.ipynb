{
 "cells": [
  {
   "cell_type": "code",
   "id": "initial_id",
   "metadata": {
    "collapsed": true,
    "ExecuteTime": {
     "end_time": "2025-04-26T16:39:43.358611Z",
     "start_time": "2025-04-26T16:39:43.348268Z"
    }
   },
   "source": [
    "import geopandas as gpd\n",
    "import pandas as pd\n",
    "import matplotlib.pyplot as plt\n",
    "import seaborn as sns\n",
    "\n",
    "# Datei einlesen\n",
    "eco = gpd.read_file(\"../../data/Rohdaten/messstandorte_verkehrszaehlungen_geojson/data/taz.view_eco_standorte.json\")\n",
    "\n",
    "# Grundstruktur prüfen\n",
    "print(\"Datentypen:\")\n",
    "print(eco.dtypes)\n",
    "\n",
    "print(\"\\nNullwerte pro Spalte:\")\n",
    "print(eco.isnull().sum().sort_values(ascending=False))\n",
    "\n",
    "print(\"\\nForm:\", eco.shape)\n",
    "\n",
    "print(\"\\nErste 5 Zeilen:\")\n",
    "print(eco.head())\n",
    "\n",
    "print(\"\\nEindeutige Werte pro Spalte:\")\n",
    "print(eco.nunique().sort_values(ascending=False))\n",
    "\n",
    "print(\"\\nDoppelte Zeilen:\", eco.duplicated().sum())\n",
    "print(\"Doppelte Geometrien:\", eco.geometry.duplicated().sum())\n",
    "\n",
    "print(\"\\nSpalten mit nur einem Wert:\")\n",
    "print(eco.columns[eco.nunique() <= 1])\n"
   ],
   "outputs": [
    {
     "name": "stdout",
     "output_type": "stream",
     "text": [
      "Datentypen:\n",
      "abkuerzung           object\n",
      "bezeichnung          object\n",
      "bis                  object\n",
      "fk_zaehler           object\n",
      "id1                   int32\n",
      "richtung_in          object\n",
      "richtung_out         object\n",
      "von                  object\n",
      "objectid             object\n",
      "korrekturfaktor     float64\n",
      "geometry           geometry\n",
      "dtype: object\n",
      "\n",
      "Nullwerte pro Spalte:\n",
      "bis                26\n",
      "richtung_out        4\n",
      "abkuerzung          0\n",
      "bezeichnung         0\n",
      "fk_zaehler          0\n",
      "id1                 0\n",
      "richtung_in         0\n",
      "von                 0\n",
      "objectid            0\n",
      "korrekturfaktor     0\n",
      "geometry            0\n",
      "dtype: int64\n",
      "\n",
      "Form: (171, 11)\n",
      "\n",
      "Erste 5 Zeilen:\n",
      "  abkuerzung              bezeichnung             bis   fk_zaehler  id1  \\\n",
      "0   VZS_BINZ         Binzmühlestrasse  20180404000000  ECO09113500    7   \n",
      "1   VZS_BUCH             Bucheggplatz  20190313000000  ECO09113505   16   \n",
      "2   VZS_KLOW         Kloster-Fahr-Weg  20200203000000  Y0412032046   53   \n",
      "3   VZS_HOFW         Hofwiesenstrasse  20190313000000  ECO09113507   13   \n",
      "4   VZS_LIMB  Limmatquai --> Bellevue  20190603000000  Y2G14045587   61   \n",
      "\n",
      "        richtung_in     richtung_out             von objectid  \\\n",
      "0          Oerlikon  Glaubtenstrasse  20101130000000        1   \n",
      "1  Hofwiesenstrasse            Höngg  20140626000000        2   \n",
      "2       Stadtgrenze       Innenstadt  20100625000000        3   \n",
      "3      Bucheggplatz              ---  20100923000000        4   \n",
      "4          Bellevue              ---  20140625000000        5   \n",
      "\n",
      "   korrekturfaktor                  geometry  \n",
      "0             1.22  POINT (8.52329 47.41364)  \n",
      "1             1.27  POINT (8.53345 47.39891)  \n",
      "2             0.94  POINT (8.48557 47.40214)  \n",
      "3             1.28  POINT (8.53397 47.40076)  \n",
      "4             1.47  POINT (8.54343 47.36912)  \n",
      "\n",
      "Eindeutige Werte pro Spalte:\n",
      "id1                171\n",
      "objectid           171\n",
      "von                110\n",
      "bis                 90\n",
      "fk_zaehler          82\n",
      "geometry            81\n",
      "abkuerzung          53\n",
      "bezeichnung         50\n",
      "korrekturfaktor     42\n",
      "richtung_out        37\n",
      "richtung_in         36\n",
      "dtype: int64\n",
      "\n",
      "Doppelte Zeilen: 0\n",
      "Doppelte Geometrien: 90\n",
      "\n",
      "Spalten mit nur einem Wert:\n",
      "Index([], dtype='object')\n"
     ]
    }
   ],
   "execution_count": 42
  },
  {
   "metadata": {},
   "cell_type": "markdown",
   "source": [
    "### 📝 Datenprüfung: Eco-Standorte Zürich (`taz.view_eco_standorte.json`)\n",
    "\n",
    "Der Datensatz umfasst **171 Standorte**, die mit dem Label „Eco“ geführt werden – vermutlich Messpunkte, Anlagen oder zählbare Infrastrukturen im Zusammenhang mit Energie, Umwelt oder Verkehr. Jeder Eintrag ist mit einer Punkt-Geometrie versehen und umfasst 11 Attribute.\n",
    "\n",
    "**Datenstruktur:**\n",
    "- Die Daten enthalten verschiedene Bezeichnungen (`bezeichnung`), Kürzel (`abkuerzung`) und Zählerkennungen (`id`).\n",
    "- Die Spalten `von` und `bis` repräsentieren vermutlich Zeitstempel im Format `yyyymmddHHMMSS`, z.B. zur Erfassung von Messzeiträumen.\n",
    "- Die Spalte `korrekturfaktor` liegt als `float` vor und scheint auf eine Gewichtung oder Umrechnungsgröße hinzuweisen.\n",
    "\n",
    "**Nullwerte:**\n",
    "- Die Spalte `bis` ist bei **26 von 171 Einträgen leer**, möglicherweise weil die Messung noch aktiv ist.\n",
    "- `richtung_out` fehlt in 4 Fällen, was auf ungerichtete Messstationen oder irrelevante Angaben hindeuten könnte.\n",
    "- Alle anderen Felder sind vollständig gefüllt.\n",
    "\n",
    "**Doppelte Einträge:**\n",
    "- **Keine doppelten Zeilen** vorhanden.\n",
    "- **90 doppelte Geometrien** → Das bedeutet, dass sich mehrere Einträge **denselben Standort teilen**, z.B. für unterschiedliche Zeiträume, Richtungen oder Zähler.\n",
    "\n",
    "**Eindeutige Werte:**\n",
    "- Die Spalten `id1` und `objectid` sind eindeutig → gut als Schlüssel verwendbar.\n",
    "- Es gibt **110 eindeutige „von“-Werte** und **90 unterschiedliche „bis“-Werte**, was auf verschiedene Start- und Endzeitpunkte hindeutet.\n",
    "- `korrekturfaktor` zeigt 42 verschiedene Werte und könnte für die spätere **gewichtete Analyse** genutzt werden.\n",
    "\n",
    "**Fazit:**\n",
    "Der Datensatz bietet eine strukturierte Übersicht über sogenannte **Eco-Standorte**, die sich z.B. als **Verkehrszählstellen, Umweltmesspunkte oder ökologisch relevante Infrastruktur** interpretieren lassen. Die Vielzahl doppelter Geometrien legt nahe, dass an einzelnen Standorten mehrere Zeitabschnitte oder Richtungsangaben erfasst wurden. Für räumliche Analysen ist der Datensatz direkt nutzbar, insbesondere zur **Verknüpfung mit Verkehrs-, Umwelt- oder Infrastrukturthemen**.\n"
   ],
   "id": "1c433a5d0ff4c4ed"
  },
  {
   "metadata": {
    "ExecuteTime": {
     "end_time": "2025-04-26T16:39:43.369201Z",
     "start_time": "2025-04-26T16:39:43.365899Z"
    }
   },
   "cell_type": "code",
   "source": [
    "# Nur relevante Spalten auswählen\n",
    "eco_reduced = eco[[\n",
    "    \"id1\",\n",
    "    \"bezeichnung\",\n",
    "    \"bis\",\n",
    "    \"richtung_in\",\n",
    "    \"richtung_out\",\n",
    "    \"von\",\n",
    "    \"geometry\"\n",
    "]].copy()\n",
    "\n",
    "# Spalte 'id1' zu 'id' umbenennen\n",
    "eco_reduced.rename(columns={\"id1\": \"id\"}, inplace=True)\n",
    "\n",
    "# Überblick über das Ergebnis\n",
    "print(\"Neue Form:\", eco_reduced.shape)\n",
    "print(\"\\nErste 5 Zeilen:\")\n",
    "print(eco_reduced.head())\n"
   ],
   "id": "a8cecb3a89f78ce4",
   "outputs": [
    {
     "name": "stdout",
     "output_type": "stream",
     "text": [
      "Neue Form: (171, 7)\n",
      "\n",
      "Erste 5 Zeilen:\n",
      "   id              bezeichnung             bis       richtung_in  \\\n",
      "0   7         Binzmühlestrasse  20180404000000          Oerlikon   \n",
      "1  16             Bucheggplatz  20190313000000  Hofwiesenstrasse   \n",
      "2  53         Kloster-Fahr-Weg  20200203000000       Stadtgrenze   \n",
      "3  13         Hofwiesenstrasse  20190313000000      Bucheggplatz   \n",
      "4  61  Limmatquai --> Bellevue  20190603000000          Bellevue   \n",
      "\n",
      "      richtung_out             von                  geometry  \n",
      "0  Glaubtenstrasse  20101130000000  POINT (8.52329 47.41364)  \n",
      "1            Höngg  20140626000000  POINT (8.53345 47.39891)  \n",
      "2       Innenstadt  20100625000000  POINT (8.48557 47.40214)  \n",
      "3              ---  20100923000000  POINT (8.53397 47.40076)  \n",
      "4              ---  20140625000000  POINT (8.54343 47.36912)  \n"
     ]
    }
   ],
   "execution_count": 43
  },
  {
   "metadata": {
    "ExecuteTime": {
     "end_time": "2025-04-26T16:39:43.375831Z",
     "start_time": "2025-04-26T16:39:43.371873Z"
    }
   },
   "cell_type": "code",
   "source": [
    "# 'von' und 'bis' in echte datetime-Objekte umwandeln\n",
    "eco_reduced[\"von\"] = pd.to_datetime(eco_reduced[\"von\"], format=\"%Y%m%d%H%M%S\", errors=\"coerce\")\n",
    "eco_reduced[\"bis\"] = pd.to_datetime(eco_reduced[\"bis\"], format=\"%Y%m%d%H%M%S\", errors=\"coerce\")\n",
    "\n",
    "# Kontrolle\n",
    "print(\"Datentypen nach Umwandlung:\")\n",
    "print(eco_reduced.dtypes[[\"von\", \"bis\"]])\n",
    "\n",
    "print(\"\\nErste Zeilen mit Datumsformat:\")\n",
    "print(eco_reduced[[\"id\", \"von\", \"bis\"]].head())\n"
   ],
   "id": "31797c3f4d1ffc02",
   "outputs": [
    {
     "name": "stdout",
     "output_type": "stream",
     "text": [
      "Datentypen nach Umwandlung:\n",
      "von    datetime64[ns]\n",
      "bis    datetime64[ns]\n",
      "dtype: object\n",
      "\n",
      "Erste Zeilen mit Datumsformat:\n",
      "   id        von        bis\n",
      "0   7 2010-11-30 2018-04-04\n",
      "1  16 2014-06-26 2019-03-13\n",
      "2  53 2010-06-25 2020-02-03\n",
      "3  13 2010-09-23 2019-03-13\n",
      "4  61 2014-06-25 2019-06-03\n"
     ]
    }
   ],
   "execution_count": 44
  },
  {
   "metadata": {
    "ExecuteTime": {
     "end_time": "2025-04-26T16:39:43.385Z",
     "start_time": "2025-04-26T16:39:43.381824Z"
    }
   },
   "cell_type": "code",
   "source": [
    "# Spalten umbenennen\n",
    "eco_reduced.rename(columns={\n",
    "    \"bezeichnung\": \"location_name\",\n",
    "    \"richtung_in\": \"direction_in\",\n",
    "    \"richtung_out\": \"direction_out\",\n",
    "    \"von\": \"start_date\",\n",
    "    \"bis\": \"end_date\"\n",
    "}, inplace=True)\n",
    "\n",
    "# Neue Spaltenreihenfolge festlegen\n",
    "eco_reduced = eco_reduced[[\n",
    "    \"id\",\n",
    "    \"location_name\",\n",
    "    \"direction_in\",\n",
    "    \"direction_out\",\n",
    "    \"start_date\",\n",
    "    \"end_date\",\n",
    "    \"geometry\"\n",
    "]]\n",
    "\n",
    "# Überblick\n",
    "print(\"Neue Form nach Umbenennung und Sortierung:\", eco_reduced.shape)\n",
    "print(\"\\nErste 5 Zeilen:\")\n",
    "print(eco_reduced.head())\n"
   ],
   "id": "aa72c26dd9db2abb",
   "outputs": [
    {
     "name": "stdout",
     "output_type": "stream",
     "text": [
      "Neue Form nach Umbenennung und Sortierung: (171, 7)\n",
      "\n",
      "Erste 5 Zeilen:\n",
      "   id            location_name      direction_in    direction_out start_date  \\\n",
      "0   7         Binzmühlestrasse          Oerlikon  Glaubtenstrasse 2010-11-30   \n",
      "1  16             Bucheggplatz  Hofwiesenstrasse            Höngg 2014-06-26   \n",
      "2  53         Kloster-Fahr-Weg       Stadtgrenze       Innenstadt 2010-06-25   \n",
      "3  13         Hofwiesenstrasse      Bucheggplatz              --- 2010-09-23   \n",
      "4  61  Limmatquai --> Bellevue          Bellevue              --- 2014-06-25   \n",
      "\n",
      "    end_date                  geometry  \n",
      "0 2018-04-04  POINT (8.52329 47.41364)  \n",
      "1 2019-03-13  POINT (8.53345 47.39891)  \n",
      "2 2020-02-03  POINT (8.48557 47.40214)  \n",
      "3 2019-03-13  POINT (8.53397 47.40076)  \n",
      "4 2019-06-03  POINT (8.54343 47.36912)  \n"
     ]
    }
   ],
   "execution_count": 45
  },
  {
   "metadata": {
    "ExecuteTime": {
     "end_time": "2025-04-26T16:40:40.455087Z",
     "start_time": "2025-04-26T16:40:40.448250Z"
    }
   },
   "cell_type": "code",
   "source": [
    "# Funktion zur Qualitätsprüfung eines DataFrames\n",
    "def check_data_quality(df, name=\"DataFrame\"):\n",
    "    print(f\"📋 Qualitätsprüfung für {name}\\n\")\n",
    "\n",
    "    # Datentypen\n",
    "    print(\"1. Datentypen:\")\n",
    "    print(df.dtypes)\n",
    "\n",
    "    # Nullwerte\n",
    "    print(\"\\n2. Nullwerte pro Spalte:\")\n",
    "    print(df.isnull().sum().sort_values(ascending=False))\n",
    "\n",
    "    # Form\n",
    "    print(\"\\n3. Form (Zeilen, Spalten):\", df.shape)\n",
    "\n",
    "    # Eindeutige Werte\n",
    "    print(\"\\n4. Eindeutige Werte pro Spalte:\")\n",
    "    print(df.nunique().sort_values(ascending=False))\n",
    "\n",
    "    # Doppelte Zeilen\n",
    "    print(\"\\n5. Anzahl doppelter Zeilen:\", df.duplicated().sum())\n",
    "\n",
    "    # Vorschau\n",
    "    print(\"\\n6. Erste 5 Zeilen:\")\n",
    "    print(df.head())\n",
    "\n",
    "    print(\"\\n\" + \"-\"*60 + \"\\n\")\n",
    "\n",
    "# Qualitätsprüfung für die Messstandorte\n",
    "check_data_quality(eco_reduced, \"eco_reduced (bereinigte Messstandorte)\")\n"
   ],
   "id": "3c1c224507ea61f3",
   "outputs": [
    {
     "name": "stdout",
     "output_type": "stream",
     "text": [
      "📋 Qualitätsprüfung für eco_reduced (bereinigte Messstandorte)\n",
      "\n",
      "1. Datentypen:\n",
      "id                        int32\n",
      "location_name            object\n",
      "direction_in             object\n",
      "direction_out            object\n",
      "start_date       datetime64[ns]\n",
      "end_date         datetime64[ns]\n",
      "geometry               geometry\n",
      "dtype: object\n",
      "\n",
      "2. Nullwerte pro Spalte:\n",
      "end_date         26\n",
      "direction_out     4\n",
      "id                0\n",
      "location_name     0\n",
      "direction_in      0\n",
      "start_date        0\n",
      "geometry          0\n",
      "dtype: int64\n",
      "\n",
      "3. Form (Zeilen, Spalten): (171, 7)\n",
      "\n",
      "4. Eindeutige Werte pro Spalte:\n",
      "id               171\n",
      "start_date       110\n",
      "end_date          90\n",
      "geometry          81\n",
      "location_name     50\n",
      "direction_out     37\n",
      "direction_in      36\n",
      "dtype: int64\n",
      "\n",
      "5. Anzahl doppelter Zeilen: 0\n",
      "\n",
      "6. Erste 5 Zeilen:\n",
      "   id            location_name      direction_in    direction_out start_date  \\\n",
      "0   7         Binzmühlestrasse          Oerlikon  Glaubtenstrasse 2010-11-30   \n",
      "1  16             Bucheggplatz  Hofwiesenstrasse            Höngg 2014-06-26   \n",
      "2  53         Kloster-Fahr-Weg       Stadtgrenze       Innenstadt 2010-06-25   \n",
      "3  13         Hofwiesenstrasse      Bucheggplatz              --- 2010-09-23   \n",
      "4  61  Limmatquai --> Bellevue          Bellevue              --- 2014-06-25   \n",
      "\n",
      "    end_date                  geometry  \n",
      "0 2018-04-04  POINT (8.52329 47.41364)  \n",
      "1 2019-03-13  POINT (8.53345 47.39891)  \n",
      "2 2020-02-03  POINT (8.48557 47.40214)  \n",
      "3 2019-03-13  POINT (8.53397 47.40076)  \n",
      "4 2019-06-03  POINT (8.54343 47.36912)  \n",
      "\n",
      "------------------------------------------------------------\n",
      "\n"
     ]
    }
   ],
   "execution_count": 48
  },
  {
   "metadata": {},
   "cell_type": "markdown",
   "source": [
    "## 🧠 Interpretation der Qualitätsprüfung: `eco_reduced` (bereinigte Messstandorte)\n",
    "\n",
    "Nach der gezielten Bereinigung des Eco-Standorte-Datensatzes (`eco_reduced`) zeigt die Qualitätsprüfung folgendes Ergebnis:\n",
    "\n",
    "### 🔍 Datenstruktur:\n",
    "- **Datentypen** sind korrekt:\n",
    "  - Standort-ID (`id`) als `int32`,\n",
    "  - Standortname und Richtungen (`location_name`, `direction_in`, `direction_out`) als `object`,\n",
    "  - Start- und Enddatum (`start_date`, `end_date`) als echte `datetime64[ns]`,\n",
    "  - Standort-Geometrie (`geometry`) als Punkt-Objekt.\n",
    "- **Keine Nullwerte** in ID, Standortname, Startdatum oder Geometrie.\n",
    "- **Nullwerte**:\n",
    "  - 26 Standorte haben kein `end_date` → Diese Messungen sind vermutlich **aktuell noch aktiv**.\n",
    "  - 4 Einträge ohne `direction_out` → Einseitige oder ungerichtete Messungen möglich.\n",
    "- **Keine doppelten Zeilen** im Datensatz.\n",
    "\n",
    "### 🛠️ Vorgehen und Sinnhaftigkeit:\n",
    "- Durch die gezielte Reduktion auf nur relevante Spalten (`id`, Standortname, Richtungen, Zeit, Geometrie) wurde der Datensatz **kompakt und übersichtlich** aufgebaut.\n",
    "- Die Umwandlung von `start_date` und `end_date` in echte Datumsformate ermöglicht später **zeitbasierte Filter und Analysen** (z.B. aktive Standorte zu einem bestimmten Zeitpunkt).\n",
    "- Die saubere englische Umbenennung der Spalten erhöht die **Lesbarkeit und Wiederverwendbarkeit** des Datensatzes, insbesondere für künftige Analysen und Visualisierungen.\n",
    "\n",
    "### ✅ Fazit:\n",
    "Der Datensatz `eco_reduced` ist vollständig, sauber strukturiert und ideal vorbereitet, um später mit den effektiven Verkehrszähldaten (`fk_standort`) zusammengeführt zu werden.\n"
   ],
   "id": "4fff92a23cc7d826"
  },
  {
   "metadata": {
    "ExecuteTime": {
     "end_time": "2025-04-26T16:39:43.453898Z",
     "start_time": "2025-04-26T16:39:43.448498Z"
    }
   },
   "cell_type": "code",
   "source": [
    "# Speichern des bereinigten Eco-Standorte-Datensatzes als CSV\n",
    "eco_reduced.to_csv(\n",
    "    \"../../data/Cleaned/messstandorte.csv\",\n",
    "    index=False,\n",
    "    encoding=\"utf-8\"\n",
    ")\n",
    "\n",
    "print(\"✅ Der bereinigte Eco-Standorte-Datensatz wurde erfolgreich als CSV gespeichert!\")\n"
   ],
   "id": "5d5a031ec6d90caf",
   "outputs": [
    {
     "name": "stdout",
     "output_type": "stream",
     "text": [
      "✅ Der bereinigte Eco-Standorte-Datensatz wurde erfolgreich als CSV gespeichert!\n"
     ]
    }
   ],
   "execution_count": 46
  },
  {
   "metadata": {
    "ExecuteTime": {
     "end_time": "2025-04-26T17:02:57.043495Z",
     "start_time": "2025-04-26T17:02:57.038548Z"
    }
   },
   "cell_type": "code",
   "source": [
    "# Liste der übrig gebliebenen Standorte\n",
    "standorte_fussverkehr = [3015, 4246, 3279]\n",
    "\n",
    "# Prüfen, ob diese IDs im eco_reduced vorhanden sind\n",
    "vorhanden = eco_reduced[eco_reduced[\"id\"].isin(standorte_fussverkehr)]\n",
    "\n",
    "print(\"Übereinstimmende Standorte im eco_reduced:\")\n",
    "print(vorhanden[[\"id\", \"location_name\", \"direction_in\", \"direction_out\"]])"
   ],
   "id": "732012847aa0198b",
   "outputs": [
    {
     "name": "stdout",
     "output_type": "stream",
     "text": [
      "Übereinstimmende Standorte im eco_reduced:\n",
      "       id   location_name   direction_in direction_out\n",
      "117  3015  Cassiopeiasteg    Stadtgrenze      Bellevue\n",
      "141  3279      Limmatquai        Rathaus       Seeufer\n",
      "152  4246         Dammweg  Limmatstrasse      Sihlquai\n"
     ]
    }
   ],
   "execution_count": 49
  },
  {
   "metadata": {},
   "cell_type": "code",
   "outputs": [],
   "execution_count": null,
   "source": "#",
   "id": "c79281fad4bb485a"
  }
 ],
 "metadata": {
  "kernelspec": {
   "display_name": "Python 3",
   "language": "python",
   "name": "python3"
  },
  "language_info": {
   "codemirror_mode": {
    "name": "ipython",
    "version": 2
   },
   "file_extension": ".py",
   "mimetype": "text/x-python",
   "name": "python",
   "nbconvert_exporter": "python",
   "pygments_lexer": "ipython2",
   "version": "2.7.6"
  }
 },
 "nbformat": 4,
 "nbformat_minor": 5
}
